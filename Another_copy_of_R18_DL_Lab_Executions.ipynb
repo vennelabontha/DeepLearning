{
  "cells": [
    {
      "cell_type": "markdown",
      "metadata": {
        "id": "view-in-github",
        "colab_type": "text"
      },
      "source": [
        "<a href=\"https://colab.research.google.com/github/vennelabontha/DeepLearning/blob/main/Another_copy_of_R18_DL_Lab_Executions.ipynb\" target=\"_parent\"><img src=\"https://colab.research.google.com/assets/colab-badge.svg\" alt=\"Open In Colab\"/></a>"
      ]
    },
    {
      "cell_type": "markdown",
      "metadata": {
        "id": "RUgMOChGfwSI"
      },
      "source": [
        "# **3. Applying the Convolution Neural Network on computer vision problems**"
      ]
    },
    {
      "cell_type": "code",
      "execution_count": null,
      "metadata": {
        "id": "m0qQRfuEemoe"
      },
      "outputs": [],
      "source": [
        "import tensorflow as tf\n",
        "from tensorflow.keras import layers, models\n",
        "from tensorflow.keras.datasets import cifar10\n",
        "import matplotlib.pyplot as plt\n",
        "import numpy as np\n"
      ]
    },
    {
      "cell_type": "code",
      "execution_count": null,
      "metadata": {
        "colab": {
          "base_uri": "https://localhost:8080/"
        },
        "id": "2jdlDa7wezO1",
        "outputId": "2da25165-761a-4756-f20c-12faad3e9c65"
      },
      "outputs": [
        {
          "name": "stdout",
          "output_type": "stream",
          "text": [
            "Downloading data from https://www.cs.toronto.edu/~kriz/cifar-10-python.tar.gz\n",
            "\u001b[1m170498071/170498071\u001b[0m \u001b[32m━━━━━━━━━━━━━━━━━━━━\u001b[0m\u001b[37m\u001b[0m \u001b[1m4s\u001b[0m 0us/step\n"
          ]
        }
      ],
      "source": [
        "# Load the CIFAR-10 dataset\n",
        "(x_train, y_train), (x_test, y_test) = cifar10.load_data()\n",
        "\n",
        "# Normalize the data\n",
        "x_train = x_train.astype('float32') / 255.0\n",
        "x_test = x_test.astype('float32') / 255.0\n",
        "\n",
        "# Convert class labels to one-hot encoding\n",
        "y_train = tf.keras.utils.to_categorical(y_train, 10)\n",
        "y_test = tf.keras.utils.to_categorical(y_test, 10)"
      ]
    },
    {
      "cell_type": "code",
      "execution_count": null,
      "metadata": {
        "id": "54JEFi4Fe3uB"
      },
      "outputs": [],
      "source": [
        "from tensorflow.keras import Input\n",
        "\n",
        "model = models.Sequential()\n",
        "\n",
        "# Explicitly define the input shape using the Input layer\n",
        "model.add(Input(shape=(32, 32, 3)))\n",
        "\n",
        "# First Convolutional Layer\n",
        "model.add(layers.Conv2D(32, (3, 3), activation='relu'))\n",
        "model.add(layers.MaxPooling2D((2, 2)))\n",
        "\n",
        "# Second Convolutional Layer\n",
        "model.add(layers.Conv2D(64, (3, 3), activation='relu'))\n",
        "model.add(layers.MaxPooling2D((2, 2)))\n",
        "\n",
        "# Third Convolutional Layer\n",
        "model.add(layers.Conv2D(64, (3, 3), activation='relu'))\n",
        "model.add(layers.MaxPooling2D((2, 2)))\n",
        "\n",
        "# Flatten the output and add fully connected layers\n",
        "model.add(layers.Flatten())\n",
        "model.add(layers.Dense(64, activation='relu'))\n",
        "model.add(layers.Dense(10, activation='softmax'))\n"
      ]
    },
    {
      "cell_type": "code",
      "execution_count": null,
      "metadata": {
        "id": "sunA9SqOfKgF"
      },
      "outputs": [],
      "source": [
        "model.compile(optimizer='adam',\n",
        "              loss='categorical_crossentropy',\n",
        "              metrics=['accuracy'])"
      ]
    },
    {
      "cell_type": "code",
      "execution_count": null,
      "metadata": {
        "colab": {
          "base_uri": "https://localhost:8080/"
        },
        "id": "rvSf_Zf4fPz1",
        "outputId": "492bc4bc-427e-4ebb-d585-54946d209085"
      },
      "outputs": [
        {
          "name": "stdout",
          "output_type": "stream",
          "text": [
            "Epoch 1/10\n",
            "\u001b[1m1563/1563\u001b[0m \u001b[32m━━━━━━━━━━━━━━━━━━━━\u001b[0m\u001b[37m\u001b[0m \u001b[1m87s\u001b[0m 53ms/step - accuracy: 0.3247 - loss: 1.8074 - val_accuracy: 0.5178 - val_loss: 1.3293\n",
            "Epoch 2/10\n",
            "\u001b[1m1563/1563\u001b[0m \u001b[32m━━━━━━━━━━━━━━━━━━━━\u001b[0m\u001b[37m\u001b[0m \u001b[1m128s\u001b[0m 44ms/step - accuracy: 0.5416 - loss: 1.2817 - val_accuracy: 0.5910 - val_loss: 1.1364\n",
            "Epoch 3/10\n",
            "\u001b[1m1563/1563\u001b[0m \u001b[32m━━━━━━━━━━━━━━━━━━━━\u001b[0m\u001b[37m\u001b[0m \u001b[1m81s\u001b[0m 44ms/step - accuracy: 0.6072 - loss: 1.1058 - val_accuracy: 0.6092 - val_loss: 1.1137\n",
            "Epoch 4/10\n",
            "\u001b[1m1563/1563\u001b[0m \u001b[32m━━━━━━━━━━━━━━━━━━━━\u001b[0m\u001b[37m\u001b[0m \u001b[1m87s\u001b[0m 47ms/step - accuracy: 0.6470 - loss: 1.0019 - val_accuracy: 0.6405 - val_loss: 1.0227\n",
            "Epoch 5/10\n",
            "\u001b[1m1563/1563\u001b[0m \u001b[32m━━━━━━━━━━━━━━━━━━━━\u001b[0m\u001b[37m\u001b[0m \u001b[1m72s\u001b[0m 46ms/step - accuracy: 0.6727 - loss: 0.9312 - val_accuracy: 0.6530 - val_loss: 0.9853\n",
            "Epoch 6/10\n",
            "\u001b[1m1563/1563\u001b[0m \u001b[32m━━━━━━━━━━━━━━━━━━━━\u001b[0m\u001b[37m\u001b[0m \u001b[1m85s\u001b[0m 48ms/step - accuracy: 0.6966 - loss: 0.8632 - val_accuracy: 0.6783 - val_loss: 0.9326\n",
            "Epoch 7/10\n",
            "\u001b[1m1563/1563\u001b[0m \u001b[32m━━━━━━━━━━━━━━━━━━━━\u001b[0m\u001b[37m\u001b[0m \u001b[1m80s\u001b[0m 47ms/step - accuracy: 0.7164 - loss: 0.8114 - val_accuracy: 0.6729 - val_loss: 0.9374\n",
            "Epoch 8/10\n",
            "\u001b[1m1563/1563\u001b[0m \u001b[32m━━━━━━━━━━━━━━━━━━━━\u001b[0m\u001b[37m\u001b[0m \u001b[1m86s\u001b[0m 50ms/step - accuracy: 0.7296 - loss: 0.7768 - val_accuracy: 0.6841 - val_loss: 0.9246\n",
            "Epoch 9/10\n",
            "\u001b[1m1563/1563\u001b[0m \u001b[32m━━━━━━━━━━━━━━━━━━━━\u001b[0m\u001b[37m\u001b[0m \u001b[1m79s\u001b[0m 48ms/step - accuracy: 0.7414 - loss: 0.7341 - val_accuracy: 0.6837 - val_loss: 0.9286\n",
            "Epoch 10/10\n",
            "\u001b[1m1563/1563\u001b[0m \u001b[32m━━━━━━━━━━━━━━━━━━━━\u001b[0m\u001b[37m\u001b[0m \u001b[1m81s\u001b[0m 47ms/step - accuracy: 0.7540 - loss: 0.7010 - val_accuracy: 0.6944 - val_loss: 0.9023\n"
          ]
        }
      ],
      "source": [
        "history = model.fit(x_train, y_train, epochs=10,\n",
        "                    validation_data=(x_test, y_test))"
      ]
    },
    {
      "cell_type": "code",
      "execution_count": null,
      "metadata": {
        "colab": {
          "base_uri": "https://localhost:8080/"
        },
        "id": "weMBAhmUfUnw",
        "outputId": "0b2f17be-ab2d-49ae-8332-af44b58fc3dd"
      },
      "outputs": [
        {
          "name": "stdout",
          "output_type": "stream",
          "text": [
            "\u001b[1m313/313\u001b[0m \u001b[32m━━━━━━━━━━━━━━━━━━━━\u001b[0m\u001b[37m\u001b[0m \u001b[1m5s\u001b[0m 16ms/step - accuracy: 0.6972 - loss: 0.8956\n",
            "Test Accuracy: 0.6944\n"
          ]
        }
      ],
      "source": [
        "test_loss, test_acc = model.evaluate(x_test, y_test)\n",
        "print(f\"Test Accuracy: {test_acc:.4f}\")"
      ]
    },
    {
      "cell_type": "code",
      "execution_count": null,
      "metadata": {
        "colab": {
          "base_uri": "https://localhost:8080/",
          "height": 455
        },
        "collapsed": true,
        "id": "kRsSxr3KfXH8",
        "outputId": "041f3edd-e8d9-433d-9d6a-20bb2fd44527"
      },
      "outputs": [
        {
          "data": {
            "image/png": "[encoded data removed]",
            "text/plain": [
              "<Figure size 640x480 with 1 Axes>"
            ]
          },
          "metadata": {},
          "output_type": "display_data"
        }
      ],
      "source": [
        "plt.plot(history.history['accuracy'], label='accuracy')\n",
        "plt.plot(history.history['val_accuracy'], label = 'val_accuracy')\n",
        "plt.xlabel('Epoch')\n",
        "plt.ylabel('Accuracy')\n",
        "plt.ylim([0, 1])\n",
        "plt.legend(loc='lower right')\n",
        "plt.show()"
      ]
    },
    {
      "cell_type": "code",
      "execution_count": null,
      "metadata": {
        "colab": {
          "base_uri": "https://localhost:8080/",
          "height": 1000
        },
        "collapsed": true,
        "id": "z3CMJVxffbNO",
        "outputId": "6adf354c-4370-4332-f01b-8eca8de5b154"
      },
      "outputs": [
        {
          "name": "stdout",
          "output_type": "stream",
          "text": [
            "\u001b[1m313/313\u001b[0m \u001b[32m━━━━━━━━━━━━━━━━━━━━\u001b[0m\u001b[37m\u001b[0m \u001b[1m7s\u001b[0m 22ms/step\n"
          ]
        },
        {
          "data": {
            "image/png": "[encoded data removed]",
            "text/plain": [
              "<Figure size 640x480 with 1 Axes>"
            ]
          },
          "metadata": {},
          "output_type": "display_data"
        },
        {
          "name": "stdout",
          "output_type": "stream",
          "text": [
            "Predicted: 3, Actual: 3\n"
          ]
        },
        {
          "data": {
            "image/png": "[encoded data removed]",
            "text/plain": [
              "<Figure size 640x480 with 1 Axes>"
            ]
          },
          "metadata": {},
          "output_type": "display_data"
        },
        {
          "name": "stdout",
          "output_type": "stream",
          "text": [
            "Predicted: 8, Actual: 8\n"
          ]
        },
        {
          "data": {
            "image/png": "[encoded data removed]",
            "text/plain": [
              "<Figure size 640x480 with 1 Axes>"
            ]
          },
          "metadata": {},
          "output_type": "display_data"
        },
        {
          "name": "stdout",
          "output_type": "stream",
          "text": [
            "Predicted: 8, Actual: 8\n"
          ]
        },
        {
          "data": {
            "image/png": "[encoded data removed]",
            "text/plain": [
              "<Figure size 640x480 with 1 Axes>"
            ]
          },
          "metadata": {},
          "output_type": "display_data"
        },
        {
          "name": "stdout",
          "output_type": "stream",
          "text": [
            "Predicted: 0, Actual: 0\n"
          ]
        },
        {
          "data": {
            "image/png": "[encoded data removed]",
            "text/plain": [
              "<Figure size 640x480 with 1 Axes>"
            ]
          },
          "metadata": {},
          "output_type": "display_data"
        },
        {
          "name": "stdout",
          "output_type": "stream",
          "text": [
            "Predicted: 6, Actual: 6\n"
          ]
        }
      ],
      "source": [
        "predictions = model.predict(x_test)\n",
        "\n",
        "# Show the first 5 predictions\n",
        "for i in range(5):\n",
        "    plt.imshow(x_test[i])\n",
        "    plt.show()\n",
        "    print(f\"Predicted: {np.argmax(predictions[i])}, Actual: {np.argmax(y_test[i])}\")"
      ]
    },
    {
      "cell_type": "markdown",
      "metadata": {
        "id": "7S4paRjaf4_v"
      },
      "source": [
        "# **4. Image classification on MNIST dataset (CNN model with Fully connected layer)**"
      ]
    },
    {
      "cell_type": "code",
      "execution_count": null,
      "metadata": {
        "id": "Ay9Wnz9mffLY"
      },
      "outputs": [],
      "source": [
        "from tensorflow.keras import datasets, layers, models"
      ]
    },
    {
      "cell_type": "code",
      "execution_count": null,
      "metadata": {
        "colab": {
          "base_uri": "https://localhost:8080/"
        },
        "id": "B8RCMxWNgZ_c",
        "outputId": "297c25b5-268f-4cd5-b49e-514c4b62fc9d"
      },
      "outputs": [
        {
          "name": "stdout",
          "output_type": "stream",
          "text": [
            "Downloading data from https://storage.googleapis.com/tensorflow/tf-keras-datasets/mnist.npz\n",
            "\u001b[1m11490434/11490434\u001b[0m \u001b[32m━━━━━━━━━━━━━━━━━━━━\u001b[0m\u001b[37m\u001b[0m \u001b[1m0s\u001b[0m 0us/step\n"
          ]
        }
      ],
      "source": [
        "# Load the MNIST dataset\n",
        "(x_train, y_train), (x_test, y_test) = datasets.mnist.load_data()\n",
        "\n",
        "# Normalize the data to be between 0 and 1\n",
        "x_train = x_train.astype('float32') / 255.0\n",
        "x_test = x_test.astype('float32') / 255.0\n",
        "\n",
        "# Reshape the data to add the channel dimension\n",
        "x_train = x_train.reshape((x_train.shape[0], 28, 28, 1))\n",
        "x_test = x_test.reshape((x_test.shape[0], 28, 28, 1))\n",
        "\n",
        "# Convert class labels to one-hot encoding\n",
        "y_train = tf.keras.utils.to_categorical(y_train, 10)\n",
        "y_test = tf.keras.utils.to_categorical(y_test, 10)"
      ]
    },
    {
      "cell_type": "code",
      "execution_count": null,
      "metadata": {
        "id": "JAq0S5pLgfRF"
      },
      "outputs": [],
      "source": [
        "model = models.Sequential()\n",
        "\n",
        "# Input layer\n",
        "model.add(layers.Input(shape=(28, 28, 1)))\n",
        "\n",
        "# First Convolutional Layer\n",
        "model.add(layers.Conv2D(32, (3, 3), activation='relu'))\n",
        "model.add(layers.MaxPooling2D((2, 2)))\n",
        "\n",
        "# Second Convolutional Layer\n",
        "model.add(layers.Conv2D(64, (3, 3), activation='relu'))\n",
        "model.add(layers.MaxPooling2D((2, 2)))\n",
        "\n",
        "# Flatten the output\n",
        "model.add(layers.Flatten())\n",
        "\n",
        "# Fully Connected Layer\n",
        "model.add(layers.Dense(128, activation='relu'))\n",
        "\n",
        "# Output Layer\n",
        "model.add(layers.Dense(10, activation='softmax'))\n"
      ]
    },
    {
      "cell_type": "code",
      "execution_count": null,
      "metadata": {
        "id": "tr2oGiZugk1-"
      },
      "outputs": [],
      "source": [
        "model.compile(optimizer='adam',\n",
        "              loss='categorical_crossentropy',\n",
        "              metrics=['accuracy'])\n"
      ]
    },
    {
      "cell_type": "code",
      "execution_count": null,
      "metadata": {
        "colab": {
          "base_uri": "https://localhost:8080/"
        },
        "id": "5IOC6FFyglqI",
        "outputId": "a9d12267-202c-4add-8c2f-0484a4f591c7"
      },
      "outputs": [
        {
          "name": "stdout",
          "output_type": "stream",
          "text": [
            "Epoch 1/10\n",
            "\u001b[1m1875/1875\u001b[0m \u001b[32m━━━━━━━━━━━━━━━━━━━━\u001b[0m\u001b[37m\u001b[0m \u001b[1m66s\u001b[0m 34ms/step - accuracy: 0.9161 - loss: 0.2763 - val_accuracy: 0.9863 - val_loss: 0.0415\n",
            "Epoch 2/10\n",
            "\u001b[1m1875/1875\u001b[0m \u001b[32m━━━━━━━━━━━━━━━━━━━━\u001b[0m\u001b[37m\u001b[0m \u001b[1m64s\u001b[0m 34ms/step - accuracy: 0.9866 - loss: 0.0425 - val_accuracy: 0.9896 - val_loss: 0.0314\n",
            "Epoch 3/10\n",
            "\u001b[1m1875/1875\u001b[0m \u001b[32m━━━━━━━━━━━━━━━━━━━━\u001b[0m\u001b[37m\u001b[0m \u001b[1m79s\u001b[0m 33ms/step - accuracy: 0.9916 - loss: 0.0260 - val_accuracy: 0.9901 - val_loss: 0.0323\n",
            "Epoch 4/10\n",
            "\u001b[1m1875/1875\u001b[0m \u001b[32m━━━━━━━━━━━━━━━━━━━━\u001b[0m\u001b[37m\u001b[0m \u001b[1m63s\u001b[0m 34ms/step - accuracy: 0.9931 - loss: 0.0214 - val_accuracy: 0.9889 - val_loss: 0.0330\n",
            "Epoch 5/10\n",
            "\u001b[1m1875/1875\u001b[0m \u001b[32m━━━━━━━━━━━━━━━━━━━━\u001b[0m\u001b[37m\u001b[0m \u001b[1m64s\u001b[0m 34ms/step - accuracy: 0.9960 - loss: 0.0117 - val_accuracy: 0.9903 - val_loss: 0.0340\n",
            "Epoch 6/10\n",
            "\u001b[1m1875/1875\u001b[0m \u001b[32m━━━━━━━━━━━━━━━━━━━━\u001b[0m\u001b[37m\u001b[0m \u001b[1m82s\u001b[0m 34ms/step - accuracy: 0.9966 - loss: 0.0097 - val_accuracy: 0.9919 - val_loss: 0.0274\n",
            "Epoch 7/10\n",
            "\u001b[1m1875/1875\u001b[0m \u001b[32m━━━━━━━━━━━━━━━━━━━━\u001b[0m\u001b[37m\u001b[0m \u001b[1m83s\u001b[0m 34ms/step - accuracy: 0.9980 - loss: 0.0065 - val_accuracy: 0.9905 - val_loss: 0.0326\n",
            "Epoch 8/10\n",
            "\u001b[1m1875/1875\u001b[0m \u001b[32m━━━━━━━━━━━━━━━━━━━━\u001b[0m\u001b[37m\u001b[0m \u001b[1m62s\u001b[0m 33ms/step - accuracy: 0.9975 - loss: 0.0068 - val_accuracy: 0.9916 - val_loss: 0.0341\n",
            "Epoch 9/10\n",
            "\u001b[1m1875/1875\u001b[0m \u001b[32m━━━━━━━━━━━━━━━━━━━━\u001b[0m\u001b[37m\u001b[0m \u001b[1m66s\u001b[0m 35ms/step - accuracy: 0.9982 - loss: 0.0054 - val_accuracy: 0.9873 - val_loss: 0.0549\n",
            "Epoch 10/10\n",
            "\u001b[1m1875/1875\u001b[0m \u001b[32m━━━━━━━━━━━━━━━━━━━━\u001b[0m\u001b[37m\u001b[0m \u001b[1m78s\u001b[0m 33ms/step - accuracy: 0.9982 - loss: 0.0063 - val_accuracy: 0.9920 - val_loss: 0.0382\n"
          ]
        }
      ],
      "source": [
        "history = model.fit(x_train, y_train, epochs=10,\n",
        "                    validation_data=(x_test, y_test))\n"
      ]
    },
    {
      "cell_type": "code",
      "execution_count": null,
      "metadata": {
        "id": "xpNTYXBAgoSt"
      },
      "outputs": [],
      "source": [
        "test_loss, test_acc = model.evaluate(x_test, y_test)\n",
        "print(f\"Test Accuracy: {test_acc:.4f}\")\n"
      ]
    },
    {
      "cell_type": "code",
      "execution_count": null,
      "metadata": {
        "id": "NXG2G009gsRS"
      },
      "outputs": [],
      "source": [
        "plt.plot(history.history['accuracy'], label='accuracy')\n",
        "plt.plot(history.history['val_accuracy'], label='val_accuracy')\n",
        "plt.xlabel('Epoch')\n",
        "plt.ylabel('Accuracy')\n",
        "plt.ylim([0, 1])\n",
        "plt.legend(loc='lower right')\n",
        "plt.show()\n"
      ]
    },
    {
      "cell_type": "code",
      "execution_count": null,
      "metadata": {
        "id": "gC2imRAfj4vy"
      },
      "outputs": [],
      "source": []
    },
    {
      "cell_type": "code",
      "execution_count": null,
      "metadata": {
        "id": "CU7cFqeRgwhT"
      },
      "outputs": [],
      "source": [
        "predictions = model.predict(x_test)\n",
        "\n",
        "# Display the first 5 test images and their predicted labels\n",
        "for i in range(5):\n",
        "    plt.imshow(x_test[i].reshape(28, 28), cmap='gray')\n",
        "    plt.title(f\"Predicted: {np.argmax(predictions[i])}, Actual: {np.argmax(y_test[i])}\")\n",
        "    plt.show()\n"
      ]
    },
    {
      "cell_type": "markdown",
      "metadata": {
        "id": "lESRPjTeg3zQ"
      },
      "source": [
        "# 5. Applying the Deep Learning Models in the field of Natural Language **Processing**"
      ]
    },
    {
      "cell_type": "code",
      "execution_count": null,
      "metadata": {
        "id": "ztcyxC5Jg3Y-"
      },
      "outputs": [],
      "source": [
        "!pip install tensorflow transformers\n"
      ]
    },
    {
      "cell_type": "code",
      "execution_count": null,
      "metadata": {
        "id": "onfu477PhQpB"
      },
      "outputs": [],
      "source": [
        "from tensorflow.keras import layers, models\n",
        "from transformers import BertTokenizer, TFBertModel\n",
        "import numpy as np\n"
      ]
    },
    {
      "cell_type": "code",
      "execution_count": null,
      "metadata": {
        "id": "aNWdZrRJhWyT"
      },
      "outputs": [],
      "source": [
        "from tensorflow.keras.datasets import imdb\n",
        "\n",
        "# Load the IMDB dataset\n",
        "vocab_size = 10000\n",
        "max_len = 200\n",
        "(x_train, y_train), (x_test, y_test) = imdb.load_data(num_words=vocab_size)\n",
        "\n",
        "# Pad sequences to ensure uniform input length\n",
        "x_train = tf.keras.preprocessing.sequence.pad_sequences(x_train, maxlen=max_len)\n",
        "x_test = tf.keras.preprocessing.sequence.pad_sequences(x_test, maxlen=max_len)\n"
      ]
    },
    {
      "cell_type": "code",
      "execution_count": null,
      "metadata": {
        "colab": {
          "base_uri": "https://localhost:8080/"
        },
        "id": "l0WsnGTghaUH",
        "outputId": "279c1d1a-7e59-4721-b8c6-106af1939f61"
      },
      "outputs": [
        {
          "name": "stdout",
          "output_type": "stream",
          "text": [
            "Epoch 1/5\n"
          ]
        },
        {
          "name": "stderr",
          "output_type": "stream",
          "text": [
            "/usr/local/lib/python3.10/dist-packages/keras/src/layers/core/embedding.py:90: UserWarning: Argument `input_length` is deprecated. Just remove it.\n",
            "  warnings.warn(\n"
          ]
        },
        {
          "name": "stdout",
          "output_type": "stream",
          "text": [
            "\u001b[1m391/391\u001b[0m \u001b[32m━━━━━━━━━━━━━━━━━━━━\u001b[0m\u001b[37m\u001b[0m \u001b[1m261s\u001b[0m 660ms/step - accuracy: 0.7110 - loss: 0.5297 - val_accuracy: 0.8652 - val_loss: 0.3171\n",
            "Epoch 2/5\n",
            "\u001b[1m391/391\u001b[0m \u001b[32m━━━━━━━━━━━━━━━━━━━━\u001b[0m\u001b[37m\u001b[0m \u001b[1m268s\u001b[0m 675ms/step - accuracy: 0.9009 - loss: 0.2480 - val_accuracy: 0.8462 - val_loss: 0.3493\n",
            "Epoch 3/5\n",
            "\u001b[1m391/391\u001b[0m \u001b[32m━━━━━━━━━━━━━━━━━━━━\u001b[0m\u001b[37m\u001b[0m \u001b[1m326s\u001b[0m 686ms/step - accuracy: 0.9287 - loss: 0.1885 - val_accuracy: 0.8654 - val_loss: 0.3862\n",
            "Epoch 4/5\n",
            "\u001b[1m391/391\u001b[0m \u001b[32m━━━━━━━━━━━━━━━━━━━━\u001b[0m\u001b[37m\u001b[0m \u001b[1m311s\u001b[0m 656ms/step - accuracy: 0.9520 - loss: 0.1339 - val_accuracy: 0.8585 - val_loss: 0.4061\n",
            "Epoch 5/5\n",
            "\u001b[1m391/391\u001b[0m \u001b[32m━━━━━━━━━━━━━━━━━━━━\u001b[0m\u001b[37m\u001b[0m \u001b[1m259s\u001b[0m 650ms/step - accuracy: 0.9679 - loss: 0.0913 - val_accuracy: 0.8449 - val_loss: 0.4489\n"
          ]
        },
        {
          "data": {
            "text/plain": [
              "<keras.src.callbacks.history.History at 0x7d9444da0190>"
            ]
          },
          "execution_count": 21,
          "metadata": {},
          "output_type": "execute_result"
        }
      ],
      "source": [
        "model = models.Sequential()\n",
        "\n",
        "# Embedding layer\n",
        "model.add(layers.Embedding(input_dim=vocab_size, output_dim=128, input_length=max_len))\n",
        "\n",
        "# LSTM layer\n",
        "model.add(layers.LSTM(128, return_sequences=False))\n",
        "\n",
        "# Fully connected layer\n",
        "model.add(layers.Dense(1, activation='sigmoid'))\n",
        "\n",
        "model.compile(optimizer='adam', loss='binary_crossentropy', metrics=['accuracy'])\n",
        "\n",
        "# Train the model\n",
        "model.fit(x_train, y_train, epochs=5, batch_size=64, validation_data=(x_test, y_test))\n"
      ]
    },
    {
      "cell_type": "code",
      "execution_count": null,
      "metadata": {
        "id": "tBau6B9Bhlwo"
      },
      "outputs": [],
      "source": [
        "from tensorflow.keras.preprocessing.text import Tokenizer\n",
        "from tensorflow.keras.preprocessing.sequence import pad_sequences\n",
        "\n",
        "# Example sentences (use real dataset for practical cases)\n",
        "source_sentences = ['I am a student', 'You are a teacher']\n",
        "target_sentences = ['Je suis étudiant', 'Vous êtes professeur']\n",
        "\n",
        "# Tokenize and pad sequences\n",
        "tokenizer_source = Tokenizer()\n",
        "tokenizer_source.fit_on_texts(source_sentences)\n",
        "source_sequences = tokenizer_source.texts_to_sequences(source_sentences)\n",
        "source_padded = pad_sequences(source_sequences, padding='post')\n",
        "\n",
        "tokenizer_target = Tokenizer()\n",
        "tokenizer_target.fit_on_texts(target_sentences)\n",
        "target_sequences = tokenizer_target.texts_to_sequences(target_sentences)\n",
        "target_padded = pad_sequences(target_sequences, padding='post')\n"
      ]
    },
    {
      "cell_type": "code",
      "execution_count": null,
      "metadata": {
        "id": "ova7XTg2hpSN"
      },
      "outputs": [],
      "source": [
        "# Encoder\n",
        "encoder_inputs = layers.Input(shape=(None,))\n",
        "encoder_embedding = layers.Embedding(input_dim=10000, output_dim=128)(encoder_inputs)\n",
        "encoder_lstm = layers.LSTM(256, return_state=True)\n",
        "encoder_outputs, state_h, state_c = encoder_lstm(encoder_embedding)\n",
        "encoder_states = [state_h, state_c]\n",
        "\n",
        "# Decoder\n",
        "decoder_inputs = layers.Input(shape=(None,))\n",
        "decoder_embedding = layers.Embedding(input_dim=10000, output_dim=128)(decoder_inputs)\n",
        "decoder_lstm = layers.LSTM(256, return_sequences=True, return_state=True)\n",
        "decoder_outputs, _, _ = decoder_lstm(decoder_embedding, initial_state=encoder_states)\n",
        "decoder_dense = layers.Dense(10000, activation='softmax')\n",
        "decoder_outputs = decoder_dense(decoder_outputs)\n",
        "\n",
        "# Model\n",
        "model = models.Model([encoder_inputs, decoder_inputs], decoder_outputs)\n",
        "\n",
        "model.compile(optimizer='adam', loss='sparse_categorical_crossentropy', metrics=['accuracy'])\n",
        "\n",
        "# Train the model (using real data for practical cases)\n",
        "# model.fit([source_padded, target_padded], target_padded, epochs=20, batch_size=64)\n"
      ]
    },
    {
      "cell_type": "code",
      "execution_count": null,
      "metadata": {
        "id": "hUwqxPTNhsMd"
      },
      "outputs": [],
      "source": [
        "from transformers import GPT2LMHeadModel, GPT2Tokenizer\n",
        "import torch\n",
        "\n",
        "# Load the GPT-2 model and tokenizer\n",
        "tokenizer = GPT2Tokenizer.from_pretrained('gpt2')\n",
        "model = GPT2LMHeadModel.from_pretrained('gpt2')\n",
        "\n",
        "# Encode input text\n",
        "input_text = \"Once upon a time\"\n",
        "input_ids = tokenizer.encode(input_text, return_tensors='pt')\n",
        "\n",
        "# Set the pad_token_id to eos_token_id to avoid warning\n",
        "pad_token_id = tokenizer.eos_token_id\n",
        "\n",
        "# Generate text with attention mask\n",
        "output = model.generate(\n",
        "    input_ids,\n",
        "    max_length=50,\n",
        "    num_return_sequences=1,\n",
        "    pad_token_id=pad_token_id,\n",
        "    attention_mask=torch.ones(input_ids.shape, dtype=torch.long)\n",
        ")\n",
        "\n",
        "# Decode and print the output\n",
        "output_text = tokenizer.decode(output[0], skip_special_tokens=True)\n",
        "print(output_text)\n"
      ]
    },
    {
      "cell_type": "code",
      "execution_count": null,
      "metadata": {
        "id": "TkodIWZ-hvH_"
      },
      "outputs": [],
      "source": [
        "# Load the BERT tokenizer\n",
        "tokenizer = BertTokenizer.from_pretrained('bert-base-uncased')\n",
        "\n",
        "# Example sentence for classification\n",
        "sentence = \"This is a great product!\"\n",
        "\n",
        "# Tokenize and encode the sentence\n",
        "inputs = tokenizer(sentence, return_tensors=\"tf\", padding=True, truncation=True, max_length=128)\n"
      ]
    },
    {
      "cell_type": "code",
      "execution_count": null,
      "metadata": {
        "id": "YazfDxGkh0S4"
      },
      "outputs": [],
      "source": [
        "import tensorflow as tf\n",
        "from transformers import TFBertModel, BertTokenizer\n",
        "from tensorflow.keras import layers\n",
        "\n",
        "# Load the BERT model\n",
        "bert_model = TFBertModel.from_pretrained('bert-base-uncased')\n",
        "\n",
        "# Define a custom Keras layer that wraps the BERT model\n",
        "class BertLayer(layers.Layer):\n",
        "    def __init__(self, bert_model):\n",
        "        super(BertLayer, self).__init__()\n",
        "        self.bert = bert_model\n",
        "\n",
        "    def call(self, inputs):\n",
        "        input_ids, attention_mask = inputs\n",
        "        output = self.bert(input_ids=input_ids, attention_mask=attention_mask)\n",
        "        return output.last_hidden_state, output.pooler_output\n",
        "\n",
        "# Define Keras Input\n",
        "input_ids = tf.keras.Input(shape=(None,), dtype=tf.int32, name='input_ids')\n",
        "attention_mask = tf.keras.Input(shape=(None,), dtype=tf.int32, name='attention_mask')\n",
        "\n",
        "# Pass inputs through the custom BERT layer\n",
        "bert_layer = BertLayer(bert_model)\n",
        "last_hidden_state, pooler_output = bert_layer([input_ids, attention_mask])\n",
        "\n",
        "# Add a dense layer for classification\n",
        "output = layers.Dense(1, activation='sigmoid')(pooler_output)\n",
        "\n",
        "# Define the complete model\n",
        "model = tf.keras.Model(inputs=[input_ids, attention_mask], outputs=output)\n",
        "\n",
        "# Compile the model\n",
        "model.compile(optimizer='adam', loss='binary_crossentropy', metrics=['accuracy'])\n",
        "\n",
        "# Model summary\n",
        "model.summary()\n",
        "\n",
        "# Example of preparing input data for the model\n",
        "sample_text = [\"This is a great movie!\"]\n",
        "inputs = tokenizer(sample_text, padding=True, truncation=True, return_tensors='tf')\n",
        "\n",
        "# Train the model on real data (uncomment the following line to train)\n",
        "# model.fit(train_data, train_labels, epochs=3, batch_size=32, validation_data=(test_data, test_labels))\n"
      ]
    },
    {
      "cell_type": "markdown",
      "source": [
        "#6.Train a sentiment analysis model on IMDB use RNN layers with LSTM/GRU notes\n"
      ],
      "metadata": {
        "id": "1Z6xcBCDf9-4"
      }
    },
    {
      "cell_type": "code",
      "source": [
        "from tensorflow.keras.datasets import imdb\n",
        "from tensorflow.keras.utils import pad_sequences\n",
        "# Load the IMBD dataset\n",
        "vocab_size=1000 #use the top 10,000 words from the dataset\n",
        "max_len=200 #max length of each review\n",
        "(x_train,y_train),(x_test,y_test)=imdb.load_data(num_words=vocab_size)\n",
        "\n",
        "#pad sequence to ensure uniform input length\n",
        "x_train=pad_sequences(x_train,maxlen=max_len)\n",
        "x_test=pad_sequences(x_test,maxlen=max_len)"
      ],
      "metadata": {
        "id": "jgaBMyEFfkmg",
        "colab": {
          "base_uri": "https://localhost:8080/"
        },
        "outputId": "5a95a1df-75b8-48a2-edf7-bfd52e93e988"
      },
      "execution_count": null,
      "outputs": [
        {
          "output_type": "stream",
          "name": "stdout",
          "text": [
            "Downloading data from https://storage.googleapis.com/tensorflow/tf-keras-datasets/imdb.npz\n",
            "\u001b[1m17464789/17464789\u001b[0m \u001b[32m━━━━━━━━━━━━━━━━━━━━\u001b[0m\u001b[37m\u001b[0m \u001b[1m2s\u001b[0m 0us/step\n"
          ]
        }
      ]
    },
    {
      "cell_type": "code",
      "source": [
        "import tensorflow as tf\n",
        "from tensorflow.keras import layers,models\n",
        "#Define the sequential model\n",
        "model=models.Sequential()\n",
        "#Add an EMbedding layer (specify input_dim and output_dim)\n",
        "model.add(layers.Embedding(input_dim=10000,output_dim=128,input_length=100))\n",
        "# Add an LSTM layer\n",
        "model.add(layers.LSTM(128))\n",
        "# Add a dense layer for classification\n",
        "model.add(layers.Dense(1,activation='sigmoid'))\n",
        "#Compile the model\n",
        "model.compile(optimizer='adam',loss='binary_crossentropy',metrics=['accuracy'])\n",
        "#Build the model by passing an example input\n",
        "#correctly specifying minval and maxval\n",
        "example_input=tf.random.uniform((32,100),minval=0, maxval=10000,dtype=tf.int32)\n",
        "model(example_input)\n",
        "#Now check the summary\n",
        "model.summary()"
      ],
      "metadata": {
        "colab": {
          "base_uri": "https://localhost:8080/",
          "height": 298
        },
        "id": "qHBW4V_DgPSw",
        "outputId": "161d65b4-a593-4ae3-85cf-8661b8b2246f"
      },
      "execution_count": null,
      "outputs": [
        {
          "output_type": "stream",
          "name": "stderr",
          "text": [
            "/usr/local/lib/python3.10/dist-packages/keras/src/layers/core/embedding.py:90: UserWarning: Argument `input_length` is deprecated. Just remove it.\n",
            "  warnings.warn(\n"
          ]
        },
        {
          "output_type": "display_data",
          "data": {
            "text/plain": [
              "\u001b[1mModel: \"sequential\"\u001b[0m\n"
            ],
            "text/html": [
              "<pre style=\"white-space:pre;overflow-x:auto;line-height:normal;font-family:Menlo,'DejaVu Sans Mono',consolas,'Courier New',monospace\"><span style=\"font-weight: bold\">Model: \"sequential\"</span>\n",
              "</pre>\n"
            ]
          },
          "metadata": {}
        },
        {
          "output_type": "display_data",
          "data": {
            "text/plain": [
              "┏━━━━━━━━━━━━━━━━━━━━━━━━━━━━━━━━━━━━━━┳━━━━━━━━━━━━━━━━━━━━━━━━━━━━━┳━━━━━━━━━━━━━━━━━┓\n",
              "┃\u001b[1m \u001b[0m\u001b[1mLayer (type)                        \u001b[0m\u001b[1m \u001b[0m┃\u001b[1m \u001b[0m\u001b[1mOutput Shape               \u001b[0m\u001b[1m \u001b[0m┃\u001b[1m \u001b[0m\u001b[1m        Param #\u001b[0m\u001b[1m \u001b[0m┃\n",
              "┡━━━━━━━━━━━━━━━━━━━━━━━━━━━━━━━━━━━━━━╇━━━━━━━━━━━━━━━━━━━━━━━━━━━━━╇━━━━━━━━━━━━━━━━━┩\n",
              "│ embedding (\u001b[38;5;33mEmbedding\u001b[0m)                │ (\u001b[38;5;34m32\u001b[0m, \u001b[38;5;34m100\u001b[0m, \u001b[38;5;34m128\u001b[0m)              │       \u001b[38;5;34m1,280,000\u001b[0m │\n",
              "├──────────────────────────────────────┼─────────────────────────────┼─────────────────┤\n",
              "│ lstm (\u001b[38;5;33mLSTM\u001b[0m)                          │ (\u001b[38;5;34m32\u001b[0m, \u001b[38;5;34m128\u001b[0m)                   │         \u001b[38;5;34m131,584\u001b[0m │\n",
              "├──────────────────────────────────────┼─────────────────────────────┼─────────────────┤\n",
              "│ dense (\u001b[38;5;33mDense\u001b[0m)                        │ (\u001b[38;5;34m32\u001b[0m, \u001b[38;5;34m1\u001b[0m)                     │             \u001b[38;5;34m129\u001b[0m │\n",
              "└──────────────────────────────────────┴─────────────────────────────┴─────────────────┘\n"
            ],
            "text/html": [
              "<pre style=\"white-space:pre;overflow-x:auto;line-height:normal;font-family:Menlo,'DejaVu Sans Mono',consolas,'Courier New',monospace\">┏━━━━━━━━━━━━━━━━━━━━━━━━━━━━━━━━━━━━━━┳━━━━━━━━━━━━━━━━━━━━━━━━━━━━━┳━━━━━━━━━━━━━━━━━┓\n",
              "┃<span style=\"font-weight: bold\"> Layer (type)                         </span>┃<span style=\"font-weight: bold\"> Output Shape                </span>┃<span style=\"font-weight: bold\">         Param # </span>┃\n",
              "┡━━━━━━━━━━━━━━━━━━━━━━━━━━━━━━━━━━━━━━╇━━━━━━━━━━━━━━━━━━━━━━━━━━━━━╇━━━━━━━━━━━━━━━━━┩\n",
              "│ embedding (<span style=\"color: #0087ff; text-decoration-color: #0087ff\">Embedding</span>)                │ (<span style=\"color: #00af00; text-decoration-color: #00af00\">32</span>, <span style=\"color: #00af00; text-decoration-color: #00af00\">100</span>, <span style=\"color: #00af00; text-decoration-color: #00af00\">128</span>)              │       <span style=\"color: #00af00; text-decoration-color: #00af00\">1,280,000</span> │\n",
              "├──────────────────────────────────────┼─────────────────────────────┼─────────────────┤\n",
              "│ lstm (<span style=\"color: #0087ff; text-decoration-color: #0087ff\">LSTM</span>)                          │ (<span style=\"color: #00af00; text-decoration-color: #00af00\">32</span>, <span style=\"color: #00af00; text-decoration-color: #00af00\">128</span>)                   │         <span style=\"color: #00af00; text-decoration-color: #00af00\">131,584</span> │\n",
              "├──────────────────────────────────────┼─────────────────────────────┼─────────────────┤\n",
              "│ dense (<span style=\"color: #0087ff; text-decoration-color: #0087ff\">Dense</span>)                        │ (<span style=\"color: #00af00; text-decoration-color: #00af00\">32</span>, <span style=\"color: #00af00; text-decoration-color: #00af00\">1</span>)                     │             <span style=\"color: #00af00; text-decoration-color: #00af00\">129</span> │\n",
              "└──────────────────────────────────────┴─────────────────────────────┴─────────────────┘\n",
              "</pre>\n"
            ]
          },
          "metadata": {}
        },
        {
          "output_type": "display_data",
          "data": {
            "text/plain": [
              "\u001b[1m Total params: \u001b[0m\u001b[38;5;34m1,411,713\u001b[0m (5.39 MB)\n"
            ],
            "text/html": [
              "<pre style=\"white-space:pre;overflow-x:auto;line-height:normal;font-family:Menlo,'DejaVu Sans Mono',consolas,'Courier New',monospace\"><span style=\"font-weight: bold\"> Total params: </span><span style=\"color: #00af00; text-decoration-color: #00af00\">1,411,713</span> (5.39 MB)\n",
              "</pre>\n"
            ]
          },
          "metadata": {}
        },
        {
          "output_type": "display_data",
          "data": {
            "text/plain": [
              "\u001b[1m Trainable params: \u001b[0m\u001b[38;5;34m1,411,713\u001b[0m (5.39 MB)\n"
            ],
            "text/html": [
              "<pre style=\"white-space:pre;overflow-x:auto;line-height:normal;font-family:Menlo,'DejaVu Sans Mono',consolas,'Courier New',monospace\"><span style=\"font-weight: bold\"> Trainable params: </span><span style=\"color: #00af00; text-decoration-color: #00af00\">1,411,713</span> (5.39 MB)\n",
              "</pre>\n"
            ]
          },
          "metadata": {}
        },
        {
          "output_type": "display_data",
          "data": {
            "text/plain": [
              "\u001b[1m Non-trainable params: \u001b[0m\u001b[38;5;34m0\u001b[0m (0.00 B)\n"
            ],
            "text/html": [
              "<pre style=\"white-space:pre;overflow-x:auto;line-height:normal;font-family:Menlo,'DejaVu Sans Mono',consolas,'Courier New',monospace\"><span style=\"font-weight: bold\"> Non-trainable params: </span><span style=\"color: #00af00; text-decoration-color: #00af00\">0</span> (0.00 B)\n",
              "</pre>\n"
            ]
          },
          "metadata": {}
        }
      ]
    },
    {
      "cell_type": "code",
      "source": [
        "# Train the model\n",
        "history=model.fit(x_train,y_train,epochs=5,batch_size=64,validation_data=(x_test,y_test))"
      ],
      "metadata": {
        "colab": {
          "base_uri": "https://localhost:8080/"
        },
        "id": "_OuVVlAciZNZ",
        "outputId": "84db29a7-b4c1-4aea-9a2b-5ce195fc2d3d"
      },
      "execution_count": null,
      "outputs": [
        {
          "output_type": "stream",
          "name": "stdout",
          "text": [
            "Epoch 1/5\n",
            "\u001b[1m391/391\u001b[0m \u001b[32m━━━━━━━━━━━━━━━━━━━━\u001b[0m\u001b[37m\u001b[0m \u001b[1m9s\u001b[0m 17ms/step - accuracy: 0.7000 - loss: 0.5565 - val_accuracy: 0.8259 - val_loss: 0.3975\n",
            "Epoch 2/5\n",
            "\u001b[1m391/391\u001b[0m \u001b[32m━━━━━━━━━━━━━━━━━━━━\u001b[0m\u001b[37m\u001b[0m \u001b[1m9s\u001b[0m 16ms/step - accuracy: 0.8230 - loss: 0.3969 - val_accuracy: 0.8413 - val_loss: 0.3591\n",
            "Epoch 3/5\n",
            "\u001b[1m391/391\u001b[0m \u001b[32m━━━━━━━━━━━━━━━━━━━━\u001b[0m\u001b[37m\u001b[0m \u001b[1m11s\u001b[0m 19ms/step - accuracy: 0.8430 - loss: 0.3599 - val_accuracy: 0.8472 - val_loss: 0.3619\n",
            "Epoch 4/5\n",
            "\u001b[1m391/391\u001b[0m \u001b[32m━━━━━━━━━━━━━━━━━━━━\u001b[0m\u001b[37m\u001b[0m \u001b[1m7s\u001b[0m 19ms/step - accuracy: 0.8575 - loss: 0.3332 - val_accuracy: 0.8551 - val_loss: 0.3413\n",
            "Epoch 5/5\n",
            "\u001b[1m391/391\u001b[0m \u001b[32m━━━━━━━━━━━━━━━━━━━━\u001b[0m\u001b[37m\u001b[0m \u001b[1m10s\u001b[0m 19ms/step - accuracy: 0.8722 - loss: 0.2984 - val_accuracy: 0.8557 - val_loss: 0.3375\n"
          ]
        }
      ]
    },
    {
      "cell_type": "code",
      "source": [
        "# Evaluate the Model\n",
        "test_loss,test_acc=model.evaluate(x_test,y_test)\n",
        "print(f\"Test Accuracy:{test_acc:.4f}\")"
      ],
      "metadata": {
        "colab": {
          "base_uri": "https://localhost:8080/"
        },
        "id": "4p6EAU2tisJq",
        "outputId": "d9c0c6f4-e1d2-4705-a07a-88feb93e1c3a"
      },
      "execution_count": null,
      "outputs": [
        {
          "output_type": "stream",
          "name": "stdout",
          "text": [
            "\u001b[1m782/782\u001b[0m \u001b[32m━━━━━━━━━━━━━━━━━━━━\u001b[0m\u001b[37m\u001b[0m \u001b[1m4s\u001b[0m 6ms/step - accuracy: 0.8511 - loss: 0.3463\n",
            "Test Accuracy:0.8557\n"
          ]
        }
      ]
    },
    {
      "cell_type": "code",
      "source": [
        "import matplotlib.pyplot as plt\n",
        "\n",
        "#plot accuracy\n",
        "plt.plot(history.history['accuracy'],label='Train accuracy')\n",
        "plt.plot(history.history['val_accuracy'],label='Test Accuracy')\n",
        "plt.title('Training and Validation Acuuracy')\n",
        "plt.xlabel('Epoch')\n",
        "plt.ylabel('Accuracy')\n",
        "plt.legend()\n",
        "plt.show()\n",
        "\n",
        "#plot loss\n",
        "plt.plot(history.history['loss'],label='Train loss')\n",
        "plt.plot(history.history['val_loss'],label='Test Loss')\n",
        "plt.title('Training and Validation Loss')\n",
        "plt.xlabel('Epoch')\n",
        "plt.ylabel('Loss')\n",
        "plt.legend()\n",
        "plt.show()"
      ],
      "metadata": {
        "colab": {
          "base_uri": "https://localhost:8080/",
          "height": 927
        },
        "id": "Mw_6tDSci19Y",
        "outputId": "3bb2cc36-1aa3-40fd-fb78-8c179452caa0"
      },
      "execution_count": null,
      "outputs": [
        {
          "output_type": "display_data",
          "data": {
            "text/plain": [
              "<Figure size 640x480 with 1 Axes>"
            ],
            "image/png": "[encoded data removed]"
          },
          "metadata": {}
        },
        {
          "output_type": "display_data",
          "data": {
            "text/plain": [
              "<Figure size 640x480 with 1 Axes>"
            ],
            "image/png": "[encoded data removed]"
          },
          "metadata": {}
        }
      ]
    },
    {
      "cell_type": "code",
      "source": [
        "import tensorflow as tf\n",
        "from tensorflow.keras.preprocessing.sequence import pad_sequences\n",
        "from tensorflow.keras.datasets import imdb\n",
        "\n",
        "#Load the IMDB dataset word index\n",
        "word_index=imdb.get_word_index()\n",
        "#Define the new review\n",
        "new_review=\"The movie was fantastic! I really enjoyed it.\"\n",
        "#convert the review to a sequence of words indices\n",
        "new_review_sequence=[word_index[word] for word in new_review.lower().split() if word in word_index]\n",
        "#pad the sequence\n",
        "max_len=100 # Define max_len according to your models input requirement\n",
        "new_review_sequence_padded=pad_sequences([new_review_sequence],maxlen=max_len)\n",
        "# Load your pre-trained model\n",
        "#predict the sentiment\n",
        "prediction=model.predict(new_review_sequence_padded)\n",
        "sentiment='positive' if prediction[0]>0.5 else 'negative'\n",
        "print(f\"Predicted sentiment :{sentiment}\")\n"
      ],
      "metadata": {
        "colab": {
          "base_uri": "https://localhost:8080/"
        },
        "id": "WyQBQOi1j0FY",
        "outputId": "d2b1a1cf-db77-442e-d040-3c5ce310040a"
      },
      "execution_count": null,
      "outputs": [
        {
          "output_type": "stream",
          "name": "stdout",
          "text": [
            "Downloading data from https://storage.googleapis.com/tensorflow/tf-keras-datasets/imdb_word_index.json\n",
            "\u001b[1m1641221/1641221\u001b[0m \u001b[32m━━━━━━━━━━━━━━━━━━━━\u001b[0m\u001b[37m\u001b[0m \u001b[1m1s\u001b[0m 1us/step\n",
            "\u001b[1m1/1\u001b[0m \u001b[32m━━━━━━━━━━━━━━━━━━━━\u001b[0m\u001b[37m\u001b[0m \u001b[1m0s\u001b[0m 159ms/step\n",
            "Predicted sentiment :positive\n"
          ]
        }
      ]
    },
    {
      "cell_type": "markdown",
      "source": [
        "# 7.Applying the Autoencoder algorithm for encoding the real-world data"
      ],
      "metadata": {
        "id": "W96EFVpumpQo"
      }
    },
    {
      "cell_type": "code",
      "source": [
        "import numpy as np\n",
        "import tensorflow as tf\n",
        "# Importing Module from tensorflow.keras instead of tensorflow.keras.model\n",
        "from tensorflow.keras import Model # Correct import path\n",
        "from tensorflow.keras.layers import Input, Dense, Flatten, Reshape\n",
        "from tensorflow.keras.datasets import mnist\n",
        "import matplotlib.pyplot as plt"
      ],
      "metadata": {
        "id": "8h9OZ8JcnTkw"
      },
      "execution_count": null,
      "outputs": []
    },
    {
      "cell_type": "code",
      "source": [
        "# Load the MNIST dataset\n",
        "(x_train, _), (x_test, _) = mnist.load_data()\n",
        "\n",
        "#Normalize the data to[0,1] range\n",
        "x_train = x_train.astype('float32') / 255.\n",
        "x_test = x_test.astype('float32') / 255.\n",
        "\n",
        "#Flatten the images for input the auto encoder\n",
        "x_train = x_train.reshape((len(x_train), np.prod(x_train.shape[1:])))\n",
        "x_test = x_test.reshape((len(x_test), np.prod(x_test.shape[1:])))\n"
      ],
      "metadata": {
        "colab": {
          "base_uri": "https://localhost:8080/"
        },
        "id": "8UhPKV2_ncDA",
        "outputId": "8c6cbc34-a9de-479b-ad28-188a7ba31207"
      },
      "execution_count": null,
      "outputs": [
        {
          "output_type": "stream",
          "name": "stdout",
          "text": [
            "Downloading data from https://storage.googleapis.com/tensorflow/tf-keras-datasets/mnist.npz\n",
            "\u001b[1m11490434/11490434\u001b[0m \u001b[32m━━━━━━━━━━━━━━━━━━━━\u001b[0m\u001b[37m\u001b[0m \u001b[1m2s\u001b[0m 0us/step\n"
          ]
        }
      ]
    },
    {
      "cell_type": "code",
      "source": [
        "#Define the size of the encoding dimension\n",
        "encoding_dim = 32\n",
        "#input placeholder\n",
        "input_img = Input(shape=(784,))\n",
        "# \"encoded\" is the encoded representation of the input\n",
        "encoded = Dense(encoding_dim, activation='relu')(input_img)\n",
        "# \"decoded\" is the lossy reconstruction of the input\n",
        "decoded = Dense(784, activation='sigmoid')(encoded)\n",
        "#this model maps an input to its reconstruction\n",
        "autoencoder = Model(input_img, decoded)\n",
        "# this model maps an input to its encoded representation\n",
        "encoder = Model(input_img, encoded)\n",
        "# create a placeholder for an encoded (32-dimensional ) input\n",
        "encoded_input = Input(shape=(encoding_dim,))\n",
        "\n",
        "#Retrieve the last layer of the autoencoder model\n",
        "decoder_layer = autoencoder.layers[-1]\n",
        "\n",
        "#create the decoder  model\n",
        "decoder = Model(encoded_input, decoder_layer(encoded_input))\n",
        "\n",
        "#compile the autoencoder\n",
        "autoencoder.compile(optimizer='adam', loss='binary_crossentropy')"
      ],
      "metadata": {
        "id": "FVq-1mKzoFMo"
      },
      "execution_count": null,
      "outputs": []
    },
    {
      "cell_type": "code",
      "source": [
        "autoencoder.fit(x_train, x_train,\n",
        "                epochs=50,\n",
        "                batch_size=256,\n",
        "                shuffle=True,\n",
        "                validation_data=(x_test, x_test))"
      ],
      "metadata": {
        "colab": {
          "base_uri": "https://localhost:8080/"
        },
        "id": "hyLnB0zfpwtn",
        "outputId": "427797a8-1e65-4250-9a76-fde5578db00a"
      },
      "execution_count": null,
      "outputs": [
        {
          "output_type": "stream",
          "name": "stdout",
          "text": [
            "Epoch 1/50\n",
            "\u001b[1m235/235\u001b[0m \u001b[32m━━━━━━━━━━━━━━━━━━━━\u001b[0m\u001b[37m\u001b[0m \u001b[1m3s\u001b[0m 8ms/step - loss: 0.3867 - val_loss: 0.1901\n",
            "Epoch 2/50\n",
            "\u001b[1m235/235\u001b[0m \u001b[32m━━━━━━━━━━━━━━━━━━━━\u001b[0m\u001b[37m\u001b[0m \u001b[1m1s\u001b[0m 2ms/step - loss: 0.1798 - val_loss: 0.1534\n",
            "Epoch 3/50\n",
            "\u001b[1m235/235\u001b[0m \u001b[32m━━━━━━━━━━━━━━━━━━━━\u001b[0m\u001b[37m\u001b[0m \u001b[1m1s\u001b[0m 2ms/step - loss: 0.1490 - val_loss: 0.1347\n",
            "Epoch 4/50\n",
            "\u001b[1m235/235\u001b[0m \u001b[32m━━━━━━━━━━━━━━━━━━━━\u001b[0m\u001b[37m\u001b[0m \u001b[1m1s\u001b[0m 3ms/step - loss: 0.1324 - val_loss: 0.1223\n",
            "Epoch 5/50\n",
            "\u001b[1m235/235\u001b[0m \u001b[32m━━━━━━━━━━━━━━━━━━━━\u001b[0m\u001b[37m\u001b[0m \u001b[1m1s\u001b[0m 3ms/step - loss: 0.1208 - val_loss: 0.1134\n",
            "Epoch 6/50\n",
            "\u001b[1m235/235\u001b[0m \u001b[32m━━━━━━━━━━━━━━━━━━━━\u001b[0m\u001b[37m\u001b[0m \u001b[1m1s\u001b[0m 3ms/step - loss: 0.1128 - val_loss: 0.1071\n",
            "Epoch 7/50\n",
            "\u001b[1m235/235\u001b[0m \u001b[32m━━━━━━━━━━━━━━━━━━━━\u001b[0m\u001b[37m\u001b[0m \u001b[1m1s\u001b[0m 3ms/step - loss: 0.1071 - val_loss: 0.1027\n",
            "Epoch 8/50\n",
            "\u001b[1m235/235\u001b[0m \u001b[32m━━━━━━━━━━━━━━━━━━━━\u001b[0m\u001b[37m\u001b[0m \u001b[1m1s\u001b[0m 2ms/step - loss: 0.1029 - val_loss: 0.0994\n",
            "Epoch 9/50\n",
            "\u001b[1m235/235\u001b[0m \u001b[32m━━━━━━━━━━━━━━━━━━━━\u001b[0m\u001b[37m\u001b[0m \u001b[1m1s\u001b[0m 3ms/step - loss: 0.1000 - val_loss: 0.0971\n",
            "Epoch 10/50\n",
            "\u001b[1m235/235\u001b[0m \u001b[32m━━━━━━━━━━━━━━━━━━━━\u001b[0m\u001b[37m\u001b[0m \u001b[1m1s\u001b[0m 2ms/step - loss: 0.0977 - val_loss: 0.0955\n",
            "Epoch 11/50\n",
            "\u001b[1m235/235\u001b[0m \u001b[32m━━━━━━━━━━━━━━━━━━━━\u001b[0m\u001b[37m\u001b[0m \u001b[1m1s\u001b[0m 2ms/step - loss: 0.0962 - val_loss: 0.0944\n",
            "Epoch 12/50\n",
            "\u001b[1m235/235\u001b[0m \u001b[32m━━━━━━━━━━━━━━━━━━━━\u001b[0m\u001b[37m\u001b[0m \u001b[1m1s\u001b[0m 3ms/step - loss: 0.0954 - val_loss: 0.0936\n",
            "Epoch 13/50\n",
            "\u001b[1m235/235\u001b[0m \u001b[32m━━━━━━━━━━━━━━━━━━━━\u001b[0m\u001b[37m\u001b[0m \u001b[1m1s\u001b[0m 2ms/step - loss: 0.0947 - val_loss: 0.0932\n",
            "Epoch 14/50\n",
            "\u001b[1m235/235\u001b[0m \u001b[32m━━━━━━━━━━━━━━━━━━━━\u001b[0m\u001b[37m\u001b[0m \u001b[1m1s\u001b[0m 3ms/step - loss: 0.0944 - val_loss: 0.0930\n",
            "Epoch 15/50\n",
            "\u001b[1m235/235\u001b[0m \u001b[32m━━━━━━━━━━━━━━━━━━━━\u001b[0m\u001b[37m\u001b[0m \u001b[1m1s\u001b[0m 2ms/step - loss: 0.0940 - val_loss: 0.0926\n",
            "Epoch 16/50\n",
            "\u001b[1m235/235\u001b[0m \u001b[32m━━━━━━━━━━━━━━━━━━━━\u001b[0m\u001b[37m\u001b[0m \u001b[1m1s\u001b[0m 2ms/step - loss: 0.0940 - val_loss: 0.0924\n",
            "Epoch 17/50\n",
            "\u001b[1m235/235\u001b[0m \u001b[32m━━━━━━━━━━━━━━━━━━━━\u001b[0m\u001b[37m\u001b[0m \u001b[1m1s\u001b[0m 2ms/step - loss: 0.0935 - val_loss: 0.0923\n",
            "Epoch 18/50\n",
            "\u001b[1m235/235\u001b[0m \u001b[32m━━━━━━━━━━━━━━━━━━━━\u001b[0m\u001b[37m\u001b[0m \u001b[1m1s\u001b[0m 2ms/step - loss: 0.0935 - val_loss: 0.0921\n",
            "Epoch 19/50\n",
            "\u001b[1m235/235\u001b[0m \u001b[32m━━━━━━━━━━━━━━━━━━━━\u001b[0m\u001b[37m\u001b[0m \u001b[1m1s\u001b[0m 3ms/step - loss: 0.0933 - val_loss: 0.0920\n",
            "Epoch 20/50\n",
            "\u001b[1m235/235\u001b[0m \u001b[32m━━━━━━━━━━━━━━━━━━━━\u001b[0m\u001b[37m\u001b[0m \u001b[1m1s\u001b[0m 2ms/step - loss: 0.0932 - val_loss: 0.0920\n",
            "Epoch 21/50\n",
            "\u001b[1m235/235\u001b[0m \u001b[32m━━━━━━━━━━━━━━━━━━━━\u001b[0m\u001b[37m\u001b[0m \u001b[1m1s\u001b[0m 2ms/step - loss: 0.0930 - val_loss: 0.0919\n",
            "Epoch 22/50\n",
            "\u001b[1m235/235\u001b[0m \u001b[32m━━━━━━━━━━━━━━━━━━━━\u001b[0m\u001b[37m\u001b[0m \u001b[1m1s\u001b[0m 3ms/step - loss: 0.0932 - val_loss: 0.0918\n",
            "Epoch 23/50\n",
            "\u001b[1m235/235\u001b[0m \u001b[32m━━━━━━━━━━━━━━━━━━━━\u001b[0m\u001b[37m\u001b[0m \u001b[1m1s\u001b[0m 4ms/step - loss: 0.0930 - val_loss: 0.0918\n",
            "Epoch 24/50\n",
            "\u001b[1m235/235\u001b[0m \u001b[32m━━━━━━━━━━━━━━━━━━━━\u001b[0m\u001b[37m\u001b[0m \u001b[1m2s\u001b[0m 5ms/step - loss: 0.0929 - val_loss: 0.0918\n",
            "Epoch 25/50\n",
            "\u001b[1m235/235\u001b[0m \u001b[32m━━━━━━━━━━━━━━━━━━━━\u001b[0m\u001b[37m\u001b[0m \u001b[1m1s\u001b[0m 4ms/step - loss: 0.0930 - val_loss: 0.0917\n",
            "Epoch 26/50\n",
            "\u001b[1m235/235\u001b[0m \u001b[32m━━━━━━━━━━━━━━━━━━━━\u001b[0m\u001b[37m\u001b[0m \u001b[1m1s\u001b[0m 3ms/step - loss: 0.0928 - val_loss: 0.0917\n",
            "Epoch 27/50\n",
            "\u001b[1m235/235\u001b[0m \u001b[32m━━━━━━━━━━━━━━━━━━━━\u001b[0m\u001b[37m\u001b[0m \u001b[1m1s\u001b[0m 4ms/step - loss: 0.0927 - val_loss: 0.0917\n",
            "Epoch 28/50\n",
            "\u001b[1m235/235\u001b[0m \u001b[32m━━━━━━━━━━━━━━━━━━━━\u001b[0m\u001b[37m\u001b[0m \u001b[1m1s\u001b[0m 4ms/step - loss: 0.0929 - val_loss: 0.0916\n",
            "Epoch 29/50\n",
            "\u001b[1m235/235\u001b[0m \u001b[32m━━━━━━━━━━━━━━━━━━━━\u001b[0m\u001b[37m\u001b[0m \u001b[1m1s\u001b[0m 3ms/step - loss: 0.0925 - val_loss: 0.0916\n",
            "Epoch 30/50\n",
            "\u001b[1m235/235\u001b[0m \u001b[32m━━━━━━━━━━━━━━━━━━━━\u001b[0m\u001b[37m\u001b[0m \u001b[1m1s\u001b[0m 3ms/step - loss: 0.0927 - val_loss: 0.0916\n",
            "Epoch 31/50\n",
            "\u001b[1m235/235\u001b[0m \u001b[32m━━━━━━━━━━━━━━━━━━━━\u001b[0m\u001b[37m\u001b[0m \u001b[1m1s\u001b[0m 4ms/step - loss: 0.0927 - val_loss: 0.0916\n",
            "Epoch 32/50\n",
            "\u001b[1m235/235\u001b[0m \u001b[32m━━━━━━━━━━━━━━━━━━━━\u001b[0m\u001b[37m\u001b[0m \u001b[1m1s\u001b[0m 3ms/step - loss: 0.0927 - val_loss: 0.0916\n",
            "Epoch 33/50\n",
            "\u001b[1m235/235\u001b[0m \u001b[32m━━━━━━━━━━━━━━━━━━━━\u001b[0m\u001b[37m\u001b[0m \u001b[1m1s\u001b[0m 2ms/step - loss: 0.0929 - val_loss: 0.0915\n",
            "Epoch 34/50\n",
            "\u001b[1m235/235\u001b[0m \u001b[32m━━━━━━━━━━━━━━━━━━━━\u001b[0m\u001b[37m\u001b[0m \u001b[1m1s\u001b[0m 2ms/step - loss: 0.0928 - val_loss: 0.0915\n",
            "Epoch 35/50\n",
            "\u001b[1m235/235\u001b[0m \u001b[32m━━━━━━━━━━━━━━━━━━━━\u001b[0m\u001b[37m\u001b[0m \u001b[1m1s\u001b[0m 2ms/step - loss: 0.0929 - val_loss: 0.0915\n",
            "Epoch 36/50\n",
            "\u001b[1m235/235\u001b[0m \u001b[32m━━━━━━━━━━━━━━━━━━━━\u001b[0m\u001b[37m\u001b[0m \u001b[1m1s\u001b[0m 3ms/step - loss: 0.0927 - val_loss: 0.0915\n",
            "Epoch 37/50\n",
            "\u001b[1m235/235\u001b[0m \u001b[32m━━━━━━━━━━━━━━━━━━━━\u001b[0m\u001b[37m\u001b[0m \u001b[1m2s\u001b[0m 5ms/step - loss: 0.0925 - val_loss: 0.0915\n",
            "Epoch 38/50\n",
            "\u001b[1m235/235\u001b[0m \u001b[32m━━━━━━━━━━━━━━━━━━━━\u001b[0m\u001b[37m\u001b[0m \u001b[1m1s\u001b[0m 6ms/step - loss: 0.0926 - val_loss: 0.0914\n",
            "Epoch 39/50\n",
            "\u001b[1m235/235\u001b[0m \u001b[32m━━━━━━━━━━━━━━━━━━━━\u001b[0m\u001b[37m\u001b[0m \u001b[1m2s\u001b[0m 3ms/step - loss: 0.0926 - val_loss: 0.0914\n",
            "Epoch 40/50\n",
            "\u001b[1m235/235\u001b[0m \u001b[32m━━━━━━━━━━━━━━━━━━━━\u001b[0m\u001b[37m\u001b[0m \u001b[1m1s\u001b[0m 3ms/step - loss: 0.0926 - val_loss: 0.0914\n",
            "Epoch 41/50\n",
            "\u001b[1m235/235\u001b[0m \u001b[32m━━━━━━━━━━━━━━━━━━━━\u001b[0m\u001b[37m\u001b[0m \u001b[1m1s\u001b[0m 3ms/step - loss: 0.0926 - val_loss: 0.0914\n",
            "Epoch 42/50\n",
            "\u001b[1m235/235\u001b[0m \u001b[32m━━━━━━━━━━━━━━━━━━━━\u001b[0m\u001b[37m\u001b[0m \u001b[1m1s\u001b[0m 3ms/step - loss: 0.0927 - val_loss: 0.0914\n",
            "Epoch 43/50\n",
            "\u001b[1m235/235\u001b[0m \u001b[32m━━━━━━━━━━━━━━━━━━━━\u001b[0m\u001b[37m\u001b[0m \u001b[1m1s\u001b[0m 3ms/step - loss: 0.0925 - val_loss: 0.0915\n",
            "Epoch 44/50\n",
            "\u001b[1m235/235\u001b[0m \u001b[32m━━━━━━━━━━━━━━━━━━━━\u001b[0m\u001b[37m\u001b[0m \u001b[1m1s\u001b[0m 3ms/step - loss: 0.0927 - val_loss: 0.0915\n",
            "Epoch 45/50\n",
            "\u001b[1m235/235\u001b[0m \u001b[32m━━━━━━━━━━━━━━━━━━━━\u001b[0m\u001b[37m\u001b[0m \u001b[1m1s\u001b[0m 3ms/step - loss: 0.0925 - val_loss: 0.0915\n",
            "Epoch 46/50\n",
            "\u001b[1m235/235\u001b[0m \u001b[32m━━━━━━━━━━━━━━━━━━━━\u001b[0m\u001b[37m\u001b[0m \u001b[1m1s\u001b[0m 3ms/step - loss: 0.0926 - val_loss: 0.0914\n",
            "Epoch 47/50\n",
            "\u001b[1m235/235\u001b[0m \u001b[32m━━━━━━━━━━━━━━━━━━━━\u001b[0m\u001b[37m\u001b[0m \u001b[1m1s\u001b[0m 4ms/step - loss: 0.0925 - val_loss: 0.0914\n",
            "Epoch 48/50\n",
            "\u001b[1m235/235\u001b[0m \u001b[32m━━━━━━━━━━━━━━━━━━━━\u001b[0m\u001b[37m\u001b[0m \u001b[1m1s\u001b[0m 5ms/step - loss: 0.0924 - val_loss: 0.0914\n",
            "Epoch 49/50\n",
            "\u001b[1m235/235\u001b[0m \u001b[32m━━━━━━━━━━━━━━━━━━━━\u001b[0m\u001b[37m\u001b[0m \u001b[1m2s\u001b[0m 6ms/step - loss: 0.0925 - val_loss: 0.0914\n",
            "Epoch 50/50\n",
            "\u001b[1m235/235\u001b[0m \u001b[32m━━━━━━━━━━━━━━━━━━━━\u001b[0m\u001b[37m\u001b[0m \u001b[1m2s\u001b[0m 4ms/step - loss: 0.0926 - val_loss: 0.0914\n"
          ]
        },
        {
          "output_type": "execute_result",
          "data": {
            "text/plain": [
              "<keras.src.callbacks.history.History at 0x7c4c37ee3640>"
            ]
          },
          "metadata": {},
          "execution_count": 12
        }
      ]
    },
    {
      "cell_type": "code",
      "source": [
        "#encode and decode some digits\n",
        "encoded_imgs = encoder.predict(x_test)\n",
        "decoded_imgs = decoder.predict(encoded_imgs)"
      ],
      "metadata": {
        "colab": {
          "base_uri": "https://localhost:8080/"
        },
        "id": "wipfw2nYp9ta",
        "outputId": "72b3a8dc-5977-4f3a-c377-7b2caa84a7c1"
      },
      "execution_count": null,
      "outputs": [
        {
          "output_type": "stream",
          "name": "stdout",
          "text": [
            "\u001b[1m313/313\u001b[0m \u001b[32m━━━━━━━━━━━━━━━━━━━━\u001b[0m\u001b[37m\u001b[0m \u001b[1m1s\u001b[0m 1ms/step\n",
            "\u001b[1m313/313\u001b[0m \u001b[32m━━━━━━━━━━━━━━━━━━━━\u001b[0m\u001b[37m\u001b[0m \u001b[1m1s\u001b[0m 1ms/step\n"
          ]
        }
      ]
    },
    {
      "cell_type": "code",
      "source": [
        "n=10 #How many didgits we will display\n",
        "plt.figure(figsize=(20,4))\n",
        "for i in range(n):\n",
        "  #display original\n",
        "  ax=plt.subplot(2,n,i+1)\n",
        "  plt.imshow(x_test[i].reshape(28,28))\n",
        "  plt.gray()\n",
        "  ax.get_xaxis().set_visible(False)\n",
        "  ax.get_yaxis().set_visible(False)\n",
        "\n",
        "  #Display reconstruction\n",
        "  ax=plt.subplot(2,n,i+1+n)\n",
        "  plt.imshow(decoded_imgs[i].reshape(28,28))\n",
        "  plt.gray()\n",
        "  ax.get_xaxis().set_visible(False)\n",
        "  ax.get_yaxis().set_visible(False)\n",
        "plt.show()"
      ],
      "metadata": {
        "colab": {
          "base_uri": "https://localhost:8080/",
          "height": 150
        },
        "id": "_n2STOYQqIQo",
        "outputId": "64bcf1db-7278-41c7-f09c-305087372b4d"
      },
      "execution_count": null,
      "outputs": [
        {
          "output_type": "display_data",
          "data": {
            "text/plain": [
              "<Figure size 2000x400 with 20 Axes>"
            ],
            "image/png": "[encoded data removed]"
          },
          "metadata": {}
        }
      ]
    },
    {
      "cell_type": "markdown",
      "source": [
        "# 8. Applying Generative Adversial Networks for image generation and unsepervised tasks"
      ],
      "metadata": {
        "id": "guY0mJrIq1rA"
      }
    },
    {
      "cell_type": "code",
      "source": [
        "!pip install tensorflow numpy matplotlib"
      ],
      "metadata": {
        "colab": {
          "base_uri": "https://localhost:8080/"
        },
        "id": "rMrsEzfArGxH",
        "outputId": "fcf96bde-8f14-40fe-8376-1f6f15ad06aa"
      },
      "execution_count": 1,
      "outputs": [
        {
          "output_type": "stream",
          "name": "stdout",
          "text": [
            "Requirement already satisfied: tensorflow in /usr/local/lib/python3.10/dist-packages (2.17.1)\n",
            "Requirement already satisfied: numpy in /usr/local/lib/python3.10/dist-packages (1.26.4)\n",
            "Requirement already satisfied: matplotlib in /usr/local/lib/python3.10/dist-packages (3.8.0)\n",
            "Requirement already satisfied: absl-py>=1.0.0 in /usr/local/lib/python3.10/dist-packages (from tensorflow) (1.4.0)\n",
            "Requirement already satisfied: astunparse>=1.6.0 in /usr/local/lib/python3.10/dist-packages (from tensorflow) (1.6.3)\n",
            "Requirement already satisfied: flatbuffers>=24.3.25 in /usr/local/lib/python3.10/dist-packages (from tensorflow) (24.3.25)\n",
            "Requirement already satisfied: gast!=0.5.0,!=0.5.1,!=0.5.2,>=0.2.1 in /usr/local/lib/python3.10/dist-packages (from tensorflow) (0.6.0)\n",
            "Requirement already satisfied: google-pasta>=0.1.1 in /usr/local/lib/python3.10/dist-packages (from tensorflow) (0.2.0)\n",
            "Requirement already satisfied: h5py>=3.10.0 in /usr/local/lib/python3.10/dist-packages (from tensorflow) (3.12.1)\n",
            "Requirement already satisfied: libclang>=13.0.0 in /usr/local/lib/python3.10/dist-packages (from tensorflow) (18.1.1)\n",
            "Requirement already satisfied: ml-dtypes<0.5.0,>=0.3.1 in /usr/local/lib/python3.10/dist-packages (from tensorflow) (0.4.1)\n",
            "Requirement already satisfied: opt-einsum>=2.3.2 in /usr/local/lib/python3.10/dist-packages (from tensorflow) (3.4.0)\n",
            "Requirement already satisfied: packaging in /usr/local/lib/python3.10/dist-packages (from tensorflow) (24.2)\n",
            "Requirement already satisfied: protobuf!=4.21.0,!=4.21.1,!=4.21.2,!=4.21.3,!=4.21.4,!=4.21.5,<5.0.0dev,>=3.20.3 in /usr/local/lib/python3.10/dist-packages (from tensorflow) (4.25.5)\n",
            "Requirement already satisfied: requests<3,>=2.21.0 in /usr/local/lib/python3.10/dist-packages (from tensorflow) (2.32.3)\n",
            "Requirement already satisfied: setuptools in /usr/local/lib/python3.10/dist-packages (from tensorflow) (75.1.0)\n",
            "Requirement already satisfied: six>=1.12.0 in /usr/local/lib/python3.10/dist-packages (from tensorflow) (1.17.0)\n",
            "Requirement already satisfied: termcolor>=1.1.0 in /usr/local/lib/python3.10/dist-packages (from tensorflow) (2.5.0)\n",
            "Requirement already satisfied: typing-extensions>=3.6.6 in /usr/local/lib/python3.10/dist-packages (from tensorflow) (4.12.2)\n",
            "Requirement already satisfied: wrapt>=1.11.0 in /usr/local/lib/python3.10/dist-packages (from tensorflow) (1.17.0)\n",
            "Requirement already satisfied: grpcio<2.0,>=1.24.3 in /usr/local/lib/python3.10/dist-packages (from tensorflow) (1.68.1)\n",
            "Requirement already satisfied: tensorboard<2.18,>=2.17 in /usr/local/lib/python3.10/dist-packages (from tensorflow) (2.17.1)\n",
            "Requirement already satisfied: keras>=3.2.0 in /usr/local/lib/python3.10/dist-packages (from tensorflow) (3.5.0)\n",
            "Requirement already satisfied: tensorflow-io-gcs-filesystem>=0.23.1 in /usr/local/lib/python3.10/dist-packages (from tensorflow) (0.37.1)\n",
            "Requirement already satisfied: contourpy>=1.0.1 in /usr/local/lib/python3.10/dist-packages (from matplotlib) (1.3.1)\n",
            "Requirement already satisfied: cycler>=0.10 in /usr/local/lib/python3.10/dist-packages (from matplotlib) (0.12.1)\n",
            "Requirement already satisfied: fonttools>=4.22.0 in /usr/local/lib/python3.10/dist-packages (from matplotlib) (4.55.3)\n",
            "Requirement already satisfied: kiwisolver>=1.0.1 in /usr/local/lib/python3.10/dist-packages (from matplotlib) (1.4.7)\n",
            "Requirement already satisfied: pillow>=6.2.0 in /usr/local/lib/python3.10/dist-packages (from matplotlib) (11.0.0)\n",
            "Requirement already satisfied: pyparsing>=2.3.1 in /usr/local/lib/python3.10/dist-packages (from matplotlib) (3.2.0)\n",
            "Requirement already satisfied: python-dateutil>=2.7 in /usr/local/lib/python3.10/dist-packages (from matplotlib) (2.8.2)\n",
            "Requirement already satisfied: wheel<1.0,>=0.23.0 in /usr/local/lib/python3.10/dist-packages (from astunparse>=1.6.0->tensorflow) (0.45.1)\n",
            "Requirement already satisfied: rich in /usr/local/lib/python3.10/dist-packages (from keras>=3.2.0->tensorflow) (13.9.4)\n",
            "Requirement already satisfied: namex in /usr/local/lib/python3.10/dist-packages (from keras>=3.2.0->tensorflow) (0.0.8)\n",
            "Requirement already satisfied: optree in /usr/local/lib/python3.10/dist-packages (from keras>=3.2.0->tensorflow) (0.13.1)\n",
            "Requirement already satisfied: charset-normalizer<4,>=2 in /usr/local/lib/python3.10/dist-packages (from requests<3,>=2.21.0->tensorflow) (3.4.0)\n",
            "Requirement already satisfied: idna<4,>=2.5 in /usr/local/lib/python3.10/dist-packages (from requests<3,>=2.21.0->tensorflow) (3.10)\n",
            "Requirement already satisfied: urllib3<3,>=1.21.1 in /usr/local/lib/python3.10/dist-packages (from requests<3,>=2.21.0->tensorflow) (2.2.3)\n",
            "Requirement already satisfied: certifi>=2017.4.17 in /usr/local/lib/python3.10/dist-packages (from requests<3,>=2.21.0->tensorflow) (2024.12.14)\n",
            "Requirement already satisfied: markdown>=2.6.8 in /usr/local/lib/python3.10/dist-packages (from tensorboard<2.18,>=2.17->tensorflow) (3.7)\n",
            "Requirement already satisfied: tensorboard-data-server<0.8.0,>=0.7.0 in /usr/local/lib/python3.10/dist-packages (from tensorboard<2.18,>=2.17->tensorflow) (0.7.2)\n",
            "Requirement already satisfied: werkzeug>=1.0.1 in /usr/local/lib/python3.10/dist-packages (from tensorboard<2.18,>=2.17->tensorflow) (3.1.3)\n",
            "Requirement already satisfied: MarkupSafe>=2.1.1 in /usr/local/lib/python3.10/dist-packages (from werkzeug>=1.0.1->tensorboard<2.18,>=2.17->tensorflow) (3.0.2)\n",
            "Requirement already satisfied: markdown-it-py>=2.2.0 in /usr/local/lib/python3.10/dist-packages (from rich->keras>=3.2.0->tensorflow) (3.0.0)\n",
            "Requirement already satisfied: pygments<3.0.0,>=2.13.0 in /usr/local/lib/python3.10/dist-packages (from rich->keras>=3.2.0->tensorflow) (2.18.0)\n",
            "Requirement already satisfied: mdurl~=0.1 in /usr/local/lib/python3.10/dist-packages (from markdown-it-py>=2.2.0->rich->keras>=3.2.0->tensorflow) (0.1.2)\n"
          ]
        }
      ]
    },
    {
      "cell_type": "code",
      "source": [
        "import tensorflow as tf\n",
        "# Importing the mnist dataset from tensorflow.keras.datasets\n",
        "from tensorflow.keras.datasets import mnist  # Correct import path\n",
        "import numpy as np\n",
        "\n",
        "# load the preprocess the MNIST dataser\n",
        "(x_train, _), (_, _) = mnist.load_data()\n",
        "x_train = x_train / 127.5 - 1.0\n",
        "x_train = np.expand_dims(x_train, axis=-1)"
      ],
      "metadata": {
        "id": "11EmjE1Drlq5",
        "colab": {
          "base_uri": "https://localhost:8080/"
        },
        "outputId": "88eb70b8-5679-452b-ae7a-55eb7bc53dbd"
      },
      "execution_count": 2,
      "outputs": [
        {
          "output_type": "stream",
          "name": "stdout",
          "text": [
            "Downloading data from https://storage.googleapis.com/tensorflow/tf-keras-datasets/mnist.npz\n",
            "\u001b[1m11490434/11490434\u001b[0m \u001b[32m━━━━━━━━━━━━━━━━━━━━\u001b[0m\u001b[37m\u001b[0m \u001b[1m0s\u001b[0m 0us/step\n"
          ]
        }
      ]
    },
    {
      "cell_type": "code",
      "source": [
        "from tensorflow.keras.layers import Dense, Reshape, LeakyReLU, BatchNormalization,UpSampling2D,Conv2D\n",
        "def Build_Generator():\n",
        "  model=tf.keras.Sequential()\n",
        "  model.add(Dense(128 * 7 * 7, activation=\"relu\", input_dim=100))\n",
        "  model.add(Reshape((7, 7, 128)))\n",
        "  model.add(UpSampling2D())\n",
        "  model.add(Conv2D(128, kernel_size=3, padding=\"same\"))\n",
        "  model.add(BatchNormalization(momentum=0.8))\n",
        "  model.add(LeakyReLU(alpha=0.01))\n",
        "  model.add(UpSampling2D())\n",
        "  model.add(Conv2D(64, kernel_size=3, padding=\"same\"))\n",
        "  model.add(BatchNormalization(momentum=0.8))\n",
        "  model.add(LeakyReLU(alpha=0.01))\n",
        "  model.add(Conv2D(1, kernel_size=3, padding=\"same\", activation=\"tanh\"))\n",
        "  return model"
      ],
      "metadata": {
        "id": "DprHenYyroP3"
      },
      "execution_count": 3,
      "outputs": []
    },
    {
      "cell_type": "code",
      "source": [
        "from tensorflow.keras.layers import Dropout,Flatten\n",
        "def Build_Discriminator():\n",
        "  model=tf.keras.Sequential()\n",
        "  model.add(Conv2D(32, kernel_size=3, strides=2, input_shape=(28, 28, 1), padding=\"same\"))\n",
        "  model.add(LeakyReLU(alpha=0.01))\n",
        "  model.add(Dropout(0.3))\n",
        "\n",
        "  model.add(Conv2D(128, kernel_size=3, strides=2, padding=\"same\"))\n",
        "  model.add(BatchNormalization(momentum=0.8))\n",
        "  model.add(LeakyReLU(alpha=0.01))\n",
        "  model.add(Dropout(0.3))\n",
        "\n",
        "  model.add(Flatten())\n",
        "  model.add(Dense(1, activation='sigmoid'))\n",
        "  return model"
      ],
      "metadata": {
        "id": "hvy5TbvysW9_"
      },
      "execution_count": 4,
      "outputs": []
    },
    {
      "cell_type": "code",
      "source": [
        "def compile_gan(generator, discriminator):\n",
        "  discriminator.compile(loss='binary_crossentropy', optimizer=tf.keras.optimizers.Adam(0.0002, 0.5), metrics=['accuracy'])\n",
        "  discriminator.trainable=False\n",
        "  noise=tf.keras.Input(shape=(100,))\n",
        "  generated_img=generator(noise)\n",
        "  validity=discriminator(generated_img)\n",
        "  combined=tf.keras.Model(noise,validity)\n",
        "  combined.compile(loss='binary_crossentropy', optimizer=tf.keras.optimizers.Adam(0.0002, 0.5))\n",
        "  return combined"
      ],
      "metadata": {
        "id": "h4lg_XsCs2N3"
      },
      "execution_count": 5,
      "outputs": []
    },
    {
      "cell_type": "code",
      "source": [
        "def train_gan(generator, discriminator, combined, epochs, batch_size=128, sample_interval=50):\n",
        "    (x_train, _), (_, _) = mnist.load_data()\n",
        "    x_train = x_train / 127.5 - 1.0\n",
        "    x_train = np.expand_dims(x_train, axis=-1)\n",
        "\n",
        "    valid = np.ones((batch_size, 1))  # Corrected 'valis' to 'valid'\n",
        "    fake = np.zeros((batch_size, 1))\n",
        "    for epoch in range(epochs):\n",
        "        idx = np.random.randint(0, x_train.shape[0], batch_size)\n",
        "        real_images = x_train[idx]\n",
        "        noise = np.random.normal(0, 1, (batch_size, 100))\n",
        "        generated_images = generator.predict(noise)\n",
        "\n",
        "        d_loss_real = discriminator.train_on_batch(real_images, valid)\n",
        "        d_loss_fake = discriminator.train_on_batch(generated_images, fake)\n",
        "        d_loss = 0.5 * np.add(d_loss_real, d_loss_fake)\n",
        "        noise = np.random.normal(0, 1, (batch_size, 100))\n",
        "        g_loss = combined.train_on_batch(noise, valid)\n",
        "        print(f\"{epoch + 1}/{epochs}, D Loss: {d_loss[0]}, D Acc: {100 * d_loss[1]}, G loss: {g_loss}\")\n",
        "        if (epoch + 1) % sample_interval == 0:\n",
        "            # Pass figsize to save_images\n",
        "            save_images(epoch, generator, figsize=(10, 10))\n",
        "\n",
        "def save_images(epoch, generator, examples=100, dim=(10, 10), figsize=(10, 10)):\n",
        "    noise = np.random.normal(0, 1, (examples, 100))  # Corrected 'example' to 'examples'\n",
        "    generated_images = generator.predict(noise)\n",
        "    generated_images = 0.5 * generated_images + 0.5\n",
        "\n",
        "    import matplotlib.pyplot as plt\n",
        "    plt.figure(figsize=figsize)\n",
        "    for i in range(examples):\n",
        "        plt.subplot(dim[0], dim[1], i + 1)\n",
        "        plt.imshow(generated_images[i, :, :, 0], cmap='gray')\n",
        "        plt.axis('off')\n",
        "    plt.tight_layout()\n",
        "    plt.savefig(f\"gan_generated_image_epoch_{epoch + 1}.png\")\n",
        "    plt.close()"
      ],
      "metadata": {
        "id": "gQUAqdp_-_tR"
      },
      "execution_count": 7,
      "outputs": []
    },
    {
      "cell_type": "code",
      "source": [
        "#instantiate and compile the model\n",
        "generator = Build_Generator()\n",
        "discriminator = Build_Discriminator()  # Changed to Build_Discriminator\n",
        "combined = compile_gan(generator, discriminator)\n",
        "# train the GAN\n",
        "train_gan(generator, discriminator, combined, epochs=200, batch_size=128, sample_interval=100)  # Changed save_interval to sample_interval"
      ],
      "metadata": {
        "id": "aKGDIIP9_XBU",
        "outputId": "6be49e19-a1bf-40b9-b7f1-6a37335bc5eb",
        "colab": {
          "base_uri": "https://localhost:8080/"
        }
      },
      "execution_count": 11,
      "outputs": [
        {
          "output_type": "stream",
          "name": "stderr",
          "text": [
            "/usr/local/lib/python3.10/dist-packages/keras/src/layers/core/dense.py:87: UserWarning: Do not pass an `input_shape`/`input_dim` argument to a layer. When using Sequential models, prefer using an `Input(shape)` object as the first layer in the model instead.\n",
            "  super().__init__(activity_regularizer=activity_regularizer, **kwargs)\n",
            "/usr/local/lib/python3.10/dist-packages/keras/src/layers/activations/leaky_relu.py:41: UserWarning: Argument `alpha` is deprecated. Use `negative_slope` instead.\n",
            "  warnings.warn(\n",
            "/usr/local/lib/python3.10/dist-packages/keras/src/layers/convolutional/base_conv.py:107: UserWarning: Do not pass an `input_shape`/`input_dim` argument to a layer. When using Sequential models, prefer using an `Input(shape)` object as the first layer in the model instead.\n",
            "  super().__init__(activity_regularizer=activity_regularizer, **kwargs)\n"
          ]
        },
        {
          "output_type": "stream",
          "name": "stdout",
          "text": [
            "\u001b[1m4/4\u001b[0m \u001b[32m━━━━━━━━━━━━━━━━━━━━\u001b[0m\u001b[37m\u001b[0m \u001b[1m2s\u001b[0m 3ms/step\n"
          ]
        },
        {
          "output_type": "stream",
          "name": "stderr",
          "text": [
            "/usr/local/lib/python3.10/dist-packages/keras/src/backend/tensorflow/trainer.py:75: UserWarning: The model does not have any trainable weights.\n",
            "  warnings.warn(\"The model does not have any trainable weights.\")\n"
          ]
        },
        {
          "output_type": "stream",
          "name": "stdout",
          "text": [
            "1/200, D Loss: 0.6283947825431824, D Acc: 73.2421875, G loss: [array(0.65236616, dtype=float32), array(0.65236616, dtype=float32), array(0.50390625, dtype=float32)]\n",
            "\u001b[1m4/4\u001b[0m \u001b[32m━━━━━━━━━━━━━━━━━━━━\u001b[0m\u001b[37m\u001b[0m \u001b[1m0s\u001b[0m 4ms/step \n"
          ]
        },
        {
          "output_type": "stream",
          "name": "stderr",
          "text": [
            "WARNING:tensorflow:5 out of the last 5 calls to <function TensorFlowTrainer.make_train_function.<locals>.one_step_on_iterator at 0x7930e0750670> triggered tf.function retracing. Tracing is expensive and the excessive number of tracings could be due to (1) creating @tf.function repeatedly in a loop, (2) passing tensors with different shapes, (3) passing Python objects instead of tensors. For (1), please define your @tf.function outside of the loop. For (2), @tf.function has reduce_retracing=True option that can avoid unnecessary retracing. For (3), please refer to https://www.tensorflow.org/guide/function#controlling_retracing and https://www.tensorflow.org/api_docs/python/tf/function for  more details.\n",
            "WARNING:tensorflow:6 out of the last 6 calls to <function TensorFlowTrainer.make_train_function.<locals>.one_step_on_iterator at 0x7930e0753be0> triggered tf.function retracing. Tracing is expensive and the excessive number of tracings could be due to (1) creating @tf.function repeatedly in a loop, (2) passing tensors with different shapes, (3) passing Python objects instead of tensors. For (1), please define your @tf.function outside of the loop. For (2), @tf.function has reduce_retracing=True option that can avoid unnecessary retracing. For (3), please refer to https://www.tensorflow.org/guide/function#controlling_retracing and https://www.tensorflow.org/api_docs/python/tf/function for  more details.\n"
          ]
        },
        {
          "output_type": "stream",
          "name": "stdout",
          "text": [
            "2/200, D Loss: 0.6494048833847046, D Acc: 58.984375, G loss: [array(0.6565835, dtype=float32), array(0.6565835, dtype=float32), array(0.515625, dtype=float32)]\n",
            "\u001b[1m4/4\u001b[0m \u001b[32m━━━━━━━━━━━━━━━━━━━━\u001b[0m\u001b[37m\u001b[0m \u001b[1m0s\u001b[0m 4ms/step \n",
            "3/200, D Loss: 0.6525566577911377, D Acc: 55.82031011581421, G loss: [array(0.6570466, dtype=float32), array(0.6570466, dtype=float32), array(0.51171875, dtype=float32)]\n",
            "\u001b[1m4/4\u001b[0m \u001b[32m━━━━━━━━━━━━━━━━━━━━\u001b[0m\u001b[37m\u001b[0m \u001b[1m0s\u001b[0m 4ms/step \n",
            "4/200, D Loss: 0.654161810874939, D Acc: 53.87136936187744, G loss: [array(0.6574814, dtype=float32), array(0.6574814, dtype=float32), array(0.5048828, dtype=float32)]\n",
            "\u001b[1m4/4\u001b[0m \u001b[32m━━━━━━━━━━━━━━━━━━━━\u001b[0m\u001b[37m\u001b[0m \u001b[1m0s\u001b[0m 3ms/step \n",
            "5/200, D Loss: 0.6551369428634644, D Acc: 52.69097089767456, G loss: [array(0.65787446, dtype=float32), array(0.65787446, dtype=float32), array(0.5, dtype=float32)]\n",
            "\u001b[1m4/4\u001b[0m \u001b[32m━━━━━━━━━━━━━━━━━━━━\u001b[0m\u001b[37m\u001b[0m \u001b[1m0s\u001b[0m 4ms/step \n",
            "6/200, D Loss: 0.6558191180229187, D Acc: 52.23425626754761, G loss: [array(0.6582288, dtype=float32), array(0.6582288, dtype=float32), array(0.50065106, dtype=float32)]\n",
            "\u001b[1m4/4\u001b[0m \u001b[32m━━━━━━━━━━━━━━━━━━━━\u001b[0m\u001b[37m\u001b[0m \u001b[1m0s\u001b[0m 4ms/step \n",
            "7/200, D Loss: 0.6568527817726135, D Acc: 51.74708366394043, G loss: [array(0.6590218, dtype=float32), array(0.6590218, dtype=float32), array(0.49888393, dtype=float32)]\n",
            "\u001b[1m4/4\u001b[0m \u001b[32m━━━━━━━━━━━━━━━━━━━━\u001b[0m\u001b[37m\u001b[0m \u001b[1m0s\u001b[0m 4ms/step \n",
            "8/200, D Loss: 0.6584759950637817, D Acc: 51.01073980331421, G loss: [array(0.6605325, dtype=float32), array(0.6605325, dtype=float32), array(0.49365234, dtype=float32)]\n",
            "\u001b[1m4/4\u001b[0m \u001b[32m━━━━━━━━━━━━━━━━━━━━\u001b[0m\u001b[37m\u001b[0m \u001b[1m0s\u001b[0m 4ms/step \n",
            "9/200, D Loss: 0.6598415374755859, D Acc: 50.66635608673096, G loss: [array(0.6617456, dtype=float32), array(0.6617456, dtype=float32), array(0.4921875, dtype=float32)]\n",
            "\u001b[1m4/4\u001b[0m \u001b[32m━━━━━━━━━━━━━━━━━━━━\u001b[0m\u001b[37m\u001b[0m \u001b[1m0s\u001b[0m 4ms/step \n",
            "10/200, D Loss: 0.6609264612197876, D Acc: 50.393712520599365, G loss: [array(0.66276824, dtype=float32), array(0.66276824, dtype=float32), array(0.4910156, dtype=float32)]\n",
            "\u001b[1m4/4\u001b[0m \u001b[32m━━━━━━━━━━━━━━━━━━━━\u001b[0m\u001b[37m\u001b[0m \u001b[1m0s\u001b[0m 4ms/step \n",
            "11/200, D Loss: 0.6625009775161743, D Acc: 49.9906986951828, G loss: [array(0.6642974, dtype=float32), array(0.6642974, dtype=float32), array(0.48828125, dtype=float32)]\n",
            "\u001b[1m4/4\u001b[0m \u001b[32m━━━━━━━━━━━━━━━━━━━━\u001b[0m\u001b[37m\u001b[0m \u001b[1m0s\u001b[0m 5ms/step \n",
            "12/200, D Loss: 0.6637880802154541, D Acc: 49.75656867027283, G loss: [array(0.6655417, dtype=float32), array(0.6655417, dtype=float32), array(0.48697916, dtype=float32)]\n",
            "\u001b[1m4/4\u001b[0m \u001b[32m━━━━━━━━━━━━━━━━━━━━\u001b[0m\u001b[37m\u001b[0m \u001b[1m0s\u001b[0m 4ms/step \n",
            "13/200, D Loss: 0.6654940843582153, D Acc: 49.559494853019714, G loss: [array(0.66728365, dtype=float32), array(0.66728365, dtype=float32), array(0.4858774, dtype=float32)]\n",
            "\u001b[1m4/4\u001b[0m \u001b[32m━━━━━━━━━━━━━━━━━━━━\u001b[0m\u001b[37m\u001b[0m \u001b[1m0s\u001b[0m 4ms/step \n",
            "14/200, D Loss: 0.6673077344894409, D Acc: 49.448162317276, G loss: [array(0.6691188, dtype=float32), array(0.6691188, dtype=float32), array(0.48549107, dtype=float32)]\n",
            "\u001b[1m4/4\u001b[0m \u001b[32m━━━━━━━━━━━━━━━━━━━━\u001b[0m\u001b[37m\u001b[0m \u001b[1m0s\u001b[0m 3ms/step \n",
            "15/200, D Loss: 0.6689869165420532, D Acc: 49.32560920715332, G loss: [array(0.67075807, dtype=float32), array(0.67075807, dtype=float32), array(0.48489583, dtype=float32)]\n",
            "\u001b[1m4/4\u001b[0m \u001b[32m━━━━━━━━━━━━━━━━━━━━\u001b[0m\u001b[37m\u001b[0m \u001b[1m0s\u001b[0m 3ms/step \n",
            "16/200, D Loss: 0.6709508895874023, D Acc: 49.21875, G loss: [array(0.67284954, dtype=float32), array(0.67284954, dtype=float32), array(0.484375, dtype=float32)]\n",
            "\u001b[1m4/4\u001b[0m \u001b[32m━━━━━━━━━━━━━━━━━━━━\u001b[0m\u001b[37m\u001b[0m \u001b[1m0s\u001b[0m 3ms/step \n",
            "17/200, D Loss: 0.6727017164230347, D Acc: 49.12474751472473, G loss: [array(0.67450655, dtype=float32), array(0.67450655, dtype=float32), array(0.48391545, dtype=float32)]\n",
            "\u001b[1m4/4\u001b[0m \u001b[32m━━━━━━━━━━━━━━━━━━━━\u001b[0m\u001b[37m\u001b[0m \u001b[1m0s\u001b[0m 3ms/step \n",
            "18/200, D Loss: 0.6743935346603394, D Acc: 49.15147423744202, G loss: [array(0.6762856, dtype=float32), array(0.6762856, dtype=float32), array(0.48459202, dtype=float32)]\n",
            "\u001b[1m4/4\u001b[0m \u001b[32m━━━━━━━━━━━━━━━━━━━━\u001b[0m\u001b[37m\u001b[0m \u001b[1m0s\u001b[0m 3ms/step \n",
            "19/200, D Loss: 0.676699697971344, D Acc: 48.98787438869476, G loss: [array(0.678674, dtype=float32), array(0.678674, dtype=float32), array(0.48334703, dtype=float32)]\n",
            "\u001b[1m4/4\u001b[0m \u001b[32m━━━━━━━━━━━━━━━━━━━━\u001b[0m\u001b[37m\u001b[0m \u001b[1m0s\u001b[0m 3ms/step \n",
            "20/200, D Loss: 0.6788316965103149, D Acc: 48.9200234413147, G loss: [array(0.68071365, dtype=float32), array(0.68071365, dtype=float32), array(0.48300782, dtype=float32)]\n",
            "\u001b[1m4/4\u001b[0m \u001b[32m━━━━━━━━━━━━━━━━━━━━\u001b[0m\u001b[37m\u001b[0m \u001b[1m0s\u001b[0m 4ms/step \n",
            "21/200, D Loss: 0.6808462142944336, D Acc: 48.915231227874756, G loss: [array(0.68264115, dtype=float32), array(0.68264115, dtype=float32), array(0.48325893, dtype=float32)]\n",
            "\u001b[1m4/4\u001b[0m \u001b[32m━━━━━━━━━━━━━━━━━━━━\u001b[0m\u001b[37m\u001b[0m \u001b[1m0s\u001b[0m 3ms/step \n",
            "22/200, D Loss: 0.6828516125679016, D Acc: 48.892953991889954, G loss: [array(0.6847435, dtype=float32), array(0.6847435, dtype=float32), array(0.48330966, dtype=float32)]\n",
            "\u001b[1m4/4\u001b[0m \u001b[32m━━━━━━━━━━━━━━━━━━━━\u001b[0m\u001b[37m\u001b[0m \u001b[1m0s\u001b[0m 3ms/step \n",
            "23/200, D Loss: 0.6849660873413086, D Acc: 48.85548949241638, G loss: [array(0.68676454, dtype=float32), array(0.68676454, dtype=float32), array(0.48318616, dtype=float32)]\n",
            "\u001b[1m4/4\u001b[0m \u001b[32m━━━━━━━━━━━━━━━━━━━━\u001b[0m\u001b[37m\u001b[0m \u001b[1m0s\u001b[0m 3ms/step \n",
            "24/200, D Loss: 0.6870248317718506, D Acc: 48.85409772396088, G loss: [array(0.6888233, dtype=float32), array(0.6888233, dtype=float32), array(0.48339844, dtype=float32)]\n",
            "\u001b[1m4/4\u001b[0m \u001b[32m━━━━━━━━━━━━━━━━━━━━\u001b[0m\u001b[37m\u001b[0m \u001b[1m0s\u001b[0m 3ms/step \n",
            "25/200, D Loss: 0.6889935731887817, D Acc: 48.83705377578735, G loss: [array(0.6907237, dtype=float32), array(0.6907237, dtype=float32), array(0.4834375, dtype=float32)]\n",
            "\u001b[1m4/4\u001b[0m \u001b[32m━━━━━━━━━━━━━━━━━━━━\u001b[0m\u001b[37m\u001b[0m \u001b[1m0s\u001b[0m 3ms/step \n",
            "26/200, D Loss: 0.6911066174507141, D Acc: 48.73031973838806, G loss: [array(0.6928445, dtype=float32), array(0.6928445, dtype=float32), array(0.4825721, dtype=float32)]\n",
            "\u001b[1m4/4\u001b[0m \u001b[32m━━━━━━━━━━━━━━━━━━━━\u001b[0m\u001b[37m\u001b[0m \u001b[1m0s\u001b[0m 3ms/step \n",
            "27/200, D Loss: 0.6931260228157043, D Acc: 48.67539405822754, G loss: [array(0.6948823, dtype=float32), array(0.6948823, dtype=float32), array(0.48220485, dtype=float32)]\n",
            "\u001b[1m4/4\u001b[0m \u001b[32m━━━━━━━━━━━━━━━━━━━━\u001b[0m\u001b[37m\u001b[0m \u001b[1m0s\u001b[0m 3ms/step \n",
            "28/200, D Loss: 0.6950259208679199, D Acc: 48.6666738986969, G loss: [array(0.6967357, dtype=float32), array(0.6967357, dtype=float32), array(0.48228237, dtype=float32)]\n",
            "\u001b[1m4/4\u001b[0m \u001b[32m━━━━━━━━━━━━━━━━━━━━\u001b[0m\u001b[37m\u001b[0m \u001b[1m0s\u001b[0m 3ms/step \n",
            "29/200, D Loss: 0.6968539357185364, D Acc: 48.658570647239685, G loss: [array(0.69851625, dtype=float32), array(0.69851625, dtype=float32), array(0.48235452, dtype=float32)]\n",
            "\u001b[1m4/4\u001b[0m \u001b[32m━━━━━━━━━━━━━━━━━━━━\u001b[0m\u001b[37m\u001b[0m \u001b[1m0s\u001b[0m 3ms/step \n",
            "30/200, D Loss: 0.6986414194107056, D Acc: 48.637887835502625, G loss: [array(0.7002823, dtype=float32), array(0.7002823, dtype=float32), array(0.48229167, dtype=float32)]\n",
            "\u001b[1m4/4\u001b[0m \u001b[32m━━━━━━━━━━━━━━━━━━━━\u001b[0m\u001b[37m\u001b[0m \u001b[1m0s\u001b[0m 3ms/step \n",
            "31/200, D Loss: 0.7003694772720337, D Acc: 48.618561029434204, G loss: [array(0.7019807, dtype=float32), array(0.7019807, dtype=float32), array(0.48223287, dtype=float32)]\n",
            "\u001b[1m4/4\u001b[0m \u001b[32m━━━━━━━━━━━━━━━━━━━━\u001b[0m\u001b[37m\u001b[0m \u001b[1m0s\u001b[0m 3ms/step \n",
            "32/200, D Loss: 0.7021939754486084, D Acc: 48.56354296207428, G loss: [array(0.70374334, dtype=float32), array(0.70374334, dtype=float32), array(0.48181152, dtype=float32)]\n",
            "\u001b[1m4/4\u001b[0m \u001b[32m━━━━━━━━━━━━━━━━━━━━\u001b[0m\u001b[37m\u001b[0m \u001b[1m0s\u001b[0m 4ms/step \n",
            "33/200, D Loss: 0.7039526700973511, D Acc: 48.535746335983276, G loss: [array(0.70550543, dtype=float32), array(0.70550543, dtype=float32), array(0.48165247, dtype=float32)]\n",
            "\u001b[1m4/4\u001b[0m \u001b[32m━━━━━━━━━━━━━━━━━━━━\u001b[0m\u001b[37m\u001b[0m \u001b[1m0s\u001b[0m 4ms/step \n",
            "34/200, D Loss: 0.7056372761726379, D Acc: 48.55590462684631, G loss: [array(0.70717657, dtype=float32), array(0.70717657, dtype=float32), array(0.48196232, dtype=float32)]\n",
            "\u001b[1m4/4\u001b[0m \u001b[32m━━━━━━━━━━━━━━━━━━━━\u001b[0m\u001b[37m\u001b[0m \u001b[1m0s\u001b[0m 4ms/step \n",
            "35/200, D Loss: 0.7073726058006287, D Acc: 48.56366515159607, G loss: [array(0.70893186, dtype=float32), array(0.70893186, dtype=float32), array(0.48214287, dtype=float32)]\n",
            "\u001b[1m4/4\u001b[0m \u001b[32m━━━━━━━━━━━━━━━━━━━━\u001b[0m\u001b[37m\u001b[0m \u001b[1m0s\u001b[0m 4ms/step \n",
            "36/200, D Loss: 0.7089962363243103, D Acc: 48.52728843688965, G loss: [array(0.710453, dtype=float32), array(0.710453, dtype=float32), array(0.48187935, dtype=float32)]\n",
            "\u001b[1m4/4\u001b[0m \u001b[32m━━━━━━━━━━━━━━━━━━━━\u001b[0m\u001b[37m\u001b[0m \u001b[1m0s\u001b[0m 3ms/step \n",
            "37/200, D Loss: 0.7105921506881714, D Acc: 48.50352108478546, G loss: [array(0.7120433, dtype=float32), array(0.7120433, dtype=float32), array(0.48173565, dtype=float32)]\n",
            "\u001b[1m4/4\u001b[0m \u001b[32m━━━━━━━━━━━━━━━━━━━━\u001b[0m\u001b[37m\u001b[0m \u001b[1m0s\u001b[0m 3ms/step \n",
            "38/200, D Loss: 0.7121306657791138, D Acc: 48.48101735115051, G loss: [array(0.7135454, dtype=float32), array(0.7135454, dtype=float32), array(0.4815995, dtype=float32)]\n",
            "\u001b[1m4/4\u001b[0m \u001b[32m━━━━━━━━━━━━━━━━━━━━\u001b[0m\u001b[37m\u001b[0m \u001b[1m0s\u001b[0m 3ms/step \n",
            "39/200, D Loss: 0.7137003540992737, D Acc: 48.4798401594162, G loss: [array(0.71512246, dtype=float32), array(0.71512246, dtype=float32), array(0.48167068, dtype=float32)]\n",
            "\u001b[1m4/4\u001b[0m \u001b[32m━━━━━━━━━━━━━━━━━━━━\u001b[0m\u001b[37m\u001b[0m \u001b[1m0s\u001b[0m 3ms/step \n",
            "40/200, D Loss: 0.7152218222618103, D Acc: 48.498380184173584, G loss: [array(0.7166611, dtype=float32), array(0.7166611, dtype=float32), array(0.4819336, dtype=float32)]\n",
            "\u001b[1m4/4\u001b[0m \u001b[32m━━━━━━━━━━━━━━━━━━━━\u001b[0m\u001b[37m\u001b[0m \u001b[1m0s\u001b[0m 3ms/step \n",
            "41/200, D Loss: 0.7168042659759521, D Acc: 48.46808314323425, G loss: [array(0.7181847, dtype=float32), array(0.7181847, dtype=float32), array(0.4817073, dtype=float32)]\n",
            "\u001b[1m4/4\u001b[0m \u001b[32m━━━━━━━━━━━━━━━━━━━━\u001b[0m\u001b[37m\u001b[0m \u001b[1m0s\u001b[0m 3ms/step \n",
            "42/200, D Loss: 0.7182949781417847, D Acc: 48.4485924243927, G loss: [array(0.71969557, dtype=float32), array(0.71969557, dtype=float32), array(0.48158482, dtype=float32)]\n",
            "\u001b[1m4/4\u001b[0m \u001b[32m━━━━━━━━━━━━━━━━━━━━\u001b[0m\u001b[37m\u001b[0m \u001b[1m0s\u001b[0m 3ms/step \n",
            "43/200, D Loss: 0.7198737859725952, D Acc: 48.411744832992554, G loss: [array(0.72122276, dtype=float32), array(0.72122276, dtype=float32), array(0.48128635, dtype=float32)]\n",
            "\u001b[1m4/4\u001b[0m \u001b[32m━━━━━━━━━━━━━━━━━━━━\u001b[0m\u001b[37m\u001b[0m \u001b[1m0s\u001b[0m 3ms/step \n",
            "44/200, D Loss: 0.721282958984375, D Acc: 48.403364419937134, G loss: [array(0.7225945, dtype=float32), array(0.7225945, dtype=float32), array(0.48126775, dtype=float32)]\n",
            "\u001b[1m4/4\u001b[0m \u001b[32m━━━━━━━━━━━━━━━━━━━━\u001b[0m\u001b[37m\u001b[0m \u001b[1m0s\u001b[0m 3ms/step \n",
            "45/200, D Loss: 0.72266685962677, D Acc: 48.40409457683563, G loss: [array(0.7240047, dtype=float32), array(0.7240047, dtype=float32), array(0.4813368, dtype=float32)]\n",
            "\u001b[1m4/4\u001b[0m \u001b[32m━━━━━━━━━━━━━━━━━━━━\u001b[0m\u001b[37m\u001b[0m \u001b[1m0s\u001b[0m 3ms/step \n",
            "46/200, D Loss: 0.7241119146347046, D Acc: 48.387718200683594, G loss: [array(0.725401, dtype=float32), array(0.725401, dtype=float32), array(0.48123303, dtype=float32)]\n",
            "\u001b[1m4/4\u001b[0m \u001b[32m━━━━━━━━━━━━━━━━━━━━\u001b[0m\u001b[37m\u001b[0m \u001b[1m0s\u001b[0m 3ms/step \n",
            "47/200, D Loss: 0.7255346179008484, D Acc: 48.37203621864319, G loss: [array(0.7268223, dtype=float32), array(0.7268223, dtype=float32), array(0.48113364, dtype=float32)]\n",
            "\u001b[1m4/4\u001b[0m \u001b[32m━━━━━━━━━━━━━━━━━━━━\u001b[0m\u001b[37m\u001b[0m \u001b[1m0s\u001b[0m 3ms/step \n",
            "48/200, D Loss: 0.7269039750099182, D Acc: 48.35702180862427, G loss: [array(0.728194, dtype=float32), array(0.728194, dtype=float32), array(0.48103842, dtype=float32)]\n",
            "\u001b[1m4/4\u001b[0m \u001b[32m━━━━━━━━━━━━━━━━━━━━\u001b[0m\u001b[37m\u001b[0m \u001b[1m0s\u001b[0m 3ms/step \n",
            "49/200, D Loss: 0.7283136248588562, D Acc: 48.31056594848633, G loss: [array(0.7295984, dtype=float32), array(0.7295984, dtype=float32), array(0.4806282, dtype=float32)]\n",
            "\u001b[1m4/4\u001b[0m \u001b[32m━━━━━━━━━━━━━━━━━━━━\u001b[0m\u001b[37m\u001b[0m \u001b[1m0s\u001b[0m 3ms/step \n",
            "50/200, D Loss: 0.7296402454376221, D Acc: 48.32879602909088, G loss: [array(0.7308668, dtype=float32), array(0.7308668, dtype=float32), array(0.48085937, dtype=float32)]\n",
            "\u001b[1m4/4\u001b[0m \u001b[32m━━━━━━━━━━━━━━━━━━━━\u001b[0m\u001b[37m\u001b[0m \u001b[1m0s\u001b[0m 3ms/step \n",
            "51/200, D Loss: 0.7309259176254272, D Acc: 48.323217034339905, G loss: [array(0.73215044, dtype=float32), array(0.73215044, dtype=float32), array(0.4808517, dtype=float32)]\n",
            "\u001b[1m4/4\u001b[0m \u001b[32m━━━━━━━━━━━━━━━━━━━━\u001b[0m\u001b[37m\u001b[0m \u001b[1m0s\u001b[0m 4ms/step \n",
            "52/200, D Loss: 0.7321714162826538, D Acc: 48.310303688049316, G loss: [array(0.73338675, dtype=float32), array(0.73338675, dtype=float32), array(0.48076922, dtype=float32)]\n",
            "\u001b[1m4/4\u001b[0m \u001b[32m━━━━━━━━━━━━━━━━━━━━\u001b[0m\u001b[37m\u001b[0m \u001b[1m0s\u001b[0m 3ms/step \n",
            "53/200, D Loss: 0.7334442138671875, D Acc: 48.297885060310364, G loss: [array(0.73463553, dtype=float32), array(0.73463553, dtype=float32), array(0.48068985, dtype=float32)]\n",
            "\u001b[1m4/4\u001b[0m \u001b[32m━━━━━━━━━━━━━━━━━━━━\u001b[0m\u001b[37m\u001b[0m \u001b[1m0s\u001b[0m 4ms/step \n",
            "54/200, D Loss: 0.7346809506416321, D Acc: 48.28592836856842, G loss: [array(0.73586804, dtype=float32), array(0.73586804, dtype=float32), array(0.48061344, dtype=float32)]\n",
            "\u001b[1m4/4\u001b[0m \u001b[32m━━━━━━━━━━━━━━━━━━━━\u001b[0m\u001b[37m\u001b[0m \u001b[1m0s\u001b[0m 3ms/step \n",
            "55/200, D Loss: 0.735947847366333, D Acc: 48.274409770965576, G loss: [array(0.7371297, dtype=float32), array(0.7371297, dtype=float32), array(0.48053977, dtype=float32)]\n",
            "\u001b[1m4/4\u001b[0m \u001b[32m━━━━━━━━━━━━━━━━━━━━\u001b[0m\u001b[37m\u001b[0m \u001b[1m0s\u001b[0m 3ms/step \n",
            "56/200, D Loss: 0.7372413873672485, D Acc: 48.27030897140503, G loss: [array(0.73839843, dtype=float32), array(0.73839843, dtype=float32), array(0.48053852, dtype=float32)]\n",
            "\u001b[1m4/4\u001b[0m \u001b[32m━━━━━━━━━━━━━━━━━━━━\u001b[0m\u001b[37m\u001b[0m \u001b[1m0s\u001b[0m 3ms/step \n",
            "57/200, D Loss: 0.7385307550430298, D Acc: 48.24570417404175, G loss: [array(0.73973185, dtype=float32), array(0.73973185, dtype=float32), array(0.4803317, dtype=float32)]\n",
            "\u001b[1m4/4\u001b[0m \u001b[32m━━━━━━━━━━━━━━━━━━━━\u001b[0m\u001b[37m\u001b[0m \u001b[1m0s\u001b[0m 4ms/step \n",
            "58/200, D Loss: 0.7398004531860352, D Acc: 48.242247104644775, G loss: [array(0.74096715, dtype=float32), array(0.74096715, dtype=float32), array(0.48033404, dtype=float32)]\n",
            "\u001b[1m4/4\u001b[0m \u001b[32m━━━━━━━━━━━━━━━━━━━━\u001b[0m\u001b[37m\u001b[0m \u001b[1m0s\u001b[0m 4ms/step \n",
            "59/200, D Loss: 0.7410038709640503, D Acc: 48.24555516242981, G loss: [array(0.74213237, dtype=float32), array(0.74213237, dtype=float32), array(0.48040253, dtype=float32)]\n",
            "\u001b[1m4/4\u001b[0m \u001b[32m━━━━━━━━━━━━━━━━━━━━\u001b[0m\u001b[37m\u001b[0m \u001b[1m0s\u001b[0m 3ms/step \n",
            "60/200, D Loss: 0.7422313690185547, D Acc: 48.24221432209015, G loss: [array(0.74335456, dtype=float32), array(0.74335456, dtype=float32), array(0.48040363, dtype=float32)]\n",
            "\u001b[1m4/4\u001b[0m \u001b[32m━━━━━━━━━━━━━━━━━━━━\u001b[0m\u001b[37m\u001b[0m \u001b[1m0s\u001b[0m 5ms/step \n",
            "61/200, D Loss: 0.7434406876564026, D Acc: 48.23898673057556, G loss: [array(0.7445613, dtype=float32), array(0.7445613, dtype=float32), array(0.4804047, dtype=float32)]\n",
            "\u001b[1m4/4\u001b[0m \u001b[32m━━━━━━━━━━━━━━━━━━━━\u001b[0m\u001b[37m\u001b[0m \u001b[1m0s\u001b[0m 3ms/step \n",
            "62/200, D Loss: 0.7445857524871826, D Acc: 48.229533433914185, G loss: [array(0.7456791, dtype=float32), array(0.7456791, dtype=float32), array(0.48034275, dtype=float32)]\n",
            "\u001b[1m4/4\u001b[0m \u001b[32m━━━━━━━━━━━━━━━━━━━━\u001b[0m\u001b[37m\u001b[0m \u001b[1m0s\u001b[0m 3ms/step \n",
            "63/200, D Loss: 0.7457210421562195, D Acc: 48.21416139602661, G loss: [array(0.74680364, dtype=float32), array(0.74680364, dtype=float32), array(0.48022074, dtype=float32)]\n",
            "\u001b[1m4/4\u001b[0m \u001b[32m━━━━━━━━━━━━━━━━━━━━\u001b[0m\u001b[37m\u001b[0m \u001b[1m0s\u001b[0m 3ms/step \n",
            "64/200, D Loss: 0.7468430995941162, D Acc: 48.19927215576172, G loss: [array(0.7479266, dtype=float32), array(0.7479266, dtype=float32), array(0.48010254, dtype=float32)]\n",
            "\u001b[1m4/4\u001b[0m \u001b[32m━━━━━━━━━━━━━━━━━━━━\u001b[0m\u001b[37m\u001b[0m \u001b[1m0s\u001b[0m 4ms/step \n",
            "65/200, D Loss: 0.7479231357574463, D Acc: 48.202937841415405, G loss: [array(0.7489782, dtype=float32), array(0.7489782, dtype=float32), array(0.48016828, dtype=float32)]\n",
            "\u001b[1m4/4\u001b[0m \u001b[32m━━━━━━━━━━━━━━━━━━━━\u001b[0m\u001b[37m\u001b[0m \u001b[1m0s\u001b[0m 3ms/step \n",
            "66/200, D Loss: 0.7490051984786987, D Acc: 48.21837544441223, G loss: [array(0.75010765, dtype=float32), array(0.75010765, dtype=float32), array(0.48035038, dtype=float32)]\n",
            "\u001b[1m4/4\u001b[0m \u001b[32m━━━━━━━━━━━━━━━━━━━━\u001b[0m\u001b[37m\u001b[0m \u001b[1m0s\u001b[0m 3ms/step \n",
            "67/200, D Loss: 0.7501469850540161, D Acc: 48.22165071964264, G loss: [array(0.7512214, dtype=float32), array(0.7512214, dtype=float32), array(0.48041046, dtype=float32)]\n",
            "\u001b[1m4/4\u001b[0m \u001b[32m━━━━━━━━━━━━━━━━━━━━\u001b[0m\u001b[37m\u001b[0m \u001b[1m0s\u001b[0m 3ms/step \n",
            "68/200, D Loss: 0.7513019442558289, D Acc: 48.19599688053131, G loss: [array(0.75238234, dtype=float32), array(0.75238234, dtype=float32), array(0.48018152, dtype=float32)]\n",
            "\u001b[1m4/4\u001b[0m \u001b[32m━━━━━━━━━━━━━━━━━━━━\u001b[0m\u001b[37m\u001b[0m \u001b[1m0s\u001b[0m 3ms/step \n",
            "69/200, D Loss: 0.7524136304855347, D Acc: 48.17677140235901, G loss: [array(0.75344014, dtype=float32), array(0.75344014, dtype=float32), array(0.48001584, dtype=float32)]\n",
            "\u001b[1m4/4\u001b[0m \u001b[32m━━━━━━━━━━━━━━━━━━━━\u001b[0m\u001b[37m\u001b[0m \u001b[1m0s\u001b[0m 3ms/step \n",
            "70/200, D Loss: 0.7534817457199097, D Acc: 48.17489981651306, G loss: [array(0.7545237, dtype=float32), array(0.7545237, dtype=float32), array(0.4800223, dtype=float32)]\n",
            "\u001b[1m4/4\u001b[0m \u001b[32m━━━━━━━━━━━━━━━━━━━━\u001b[0m\u001b[37m\u001b[0m \u001b[1m0s\u001b[0m 3ms/step \n",
            "71/200, D Loss: 0.7545916438102722, D Acc: 48.15651774406433, G loss: [array(0.7556215, dtype=float32), array(0.7556215, dtype=float32), array(0.47986355, dtype=float32)]\n",
            "\u001b[1m4/4\u001b[0m \u001b[32m━━━━━━━━━━━━━━━━━━━━\u001b[0m\u001b[37m\u001b[0m \u001b[1m0s\u001b[0m 4ms/step \n",
            "72/200, D Loss: 0.7556843757629395, D Acc: 48.14409613609314, G loss: [array(0.75671613, dtype=float32), array(0.75671613, dtype=float32), array(0.47976345, dtype=float32)]\n",
            "\u001b[1m4/4\u001b[0m \u001b[32m━━━━━━━━━━━━━━━━━━━━\u001b[0m\u001b[37m\u001b[0m \u001b[1m0s\u001b[0m 3ms/step \n",
            "73/200, D Loss: 0.756816029548645, D Acc: 48.12127351760864, G loss: [array(0.75785154, dtype=float32), array(0.75785154, dtype=float32), array(0.47955906, dtype=float32)]\n",
            "\u001b[1m4/4\u001b[0m \u001b[32m━━━━━━━━━━━━━━━━━━━━\u001b[0m\u001b[37m\u001b[0m \u001b[1m0s\u001b[0m 3ms/step \n",
            "74/200, D Loss: 0.7578614950180054, D Acc: 48.12025725841522, G loss: [array(0.7588789, dtype=float32), array(0.7588789, dtype=float32), array(0.47957137, dtype=float32)]\n",
            "\u001b[1m4/4\u001b[0m \u001b[32m━━━━━━━━━━━━━━━━━━━━\u001b[0m\u001b[37m\u001b[0m \u001b[1m0s\u001b[0m 3ms/step \n",
            "75/200, D Loss: 0.7589206099510193, D Acc: 48.11404347419739, G loss: [array(0.75992334, dtype=float32), array(0.75992334, dtype=float32), array(0.47953126, dtype=float32)]\n",
            "\u001b[1m4/4\u001b[0m \u001b[32m━━━━━━━━━━━━━━━━━━━━\u001b[0m\u001b[37m\u001b[0m \u001b[1m0s\u001b[0m 3ms/step \n",
            "76/200, D Loss: 0.7600417137145996, D Acc: 48.092520236968994, G loss: [array(0.76104546, dtype=float32), array(0.76104546, dtype=float32), array(0.479338, dtype=float32)]\n",
            "\u001b[1m4/4\u001b[0m \u001b[32m━━━━━━━━━━━━━━━━━━━━\u001b[0m\u001b[37m\u001b[0m \u001b[1m0s\u001b[0m 3ms/step \n",
            "77/200, D Loss: 0.761054515838623, D Acc: 48.1020987033844, G loss: [array(0.7620247, dtype=float32), array(0.7620247, dtype=float32), array(0.47945413, dtype=float32)]\n",
            "\u001b[1m4/4\u001b[0m \u001b[32m━━━━━━━━━━━━━━━━━━━━\u001b[0m\u001b[37m\u001b[0m \u001b[1m0s\u001b[0m 3ms/step \n",
            "78/200, D Loss: 0.7620114088058472, D Acc: 48.09635877609253, G loss: [array(0.7629746, dtype=float32), array(0.7629746, dtype=float32), array(0.47941706, dtype=float32)]\n",
            "\u001b[1m4/4\u001b[0m \u001b[32m━━━━━━━━━━━━━━━━━━━━\u001b[0m\u001b[37m\u001b[0m \u001b[1m0s\u001b[0m 3ms/step \n",
            "79/200, D Loss: 0.7629609107971191, D Acc: 48.100683093070984, G loss: [array(0.7639351, dtype=float32), array(0.7639351, dtype=float32), array(0.47947982, dtype=float32)]\n",
            "\u001b[1m4/4\u001b[0m \u001b[32m━━━━━━━━━━━━━━━━━━━━\u001b[0m\u001b[37m\u001b[0m \u001b[1m0s\u001b[0m 3ms/step \n",
            "80/200, D Loss: 0.7639411687850952, D Acc: 48.095107078552246, G loss: [array(0.7648771, dtype=float32), array(0.7648771, dtype=float32), array(0.47944337, dtype=float32)]\n",
            "\u001b[1m4/4\u001b[0m \u001b[32m━━━━━━━━━━━━━━━━━━━━\u001b[0m\u001b[37m\u001b[0m \u001b[1m0s\u001b[0m 3ms/step \n",
            "81/200, D Loss: 0.7649393081665039, D Acc: 48.08966517448425, G loss: [array(0.7659153, dtype=float32), array(0.7659153, dtype=float32), array(0.4794078, dtype=float32)]\n",
            "\u001b[1m4/4\u001b[0m \u001b[32m━━━━━━━━━━━━━━━━━━━━\u001b[0m\u001b[37m\u001b[0m \u001b[1m0s\u001b[0m 4ms/step \n",
            "82/200, D Loss: 0.7659244537353516, D Acc: 48.06524217128754, G loss: [array(0.76686406, dtype=float32), array(0.76686406, dtype=float32), array(0.47918254, dtype=float32)]\n",
            "\u001b[1m4/4\u001b[0m \u001b[32m━━━━━━━━━━━━━━━━━━━━\u001b[0m\u001b[37m\u001b[0m \u001b[1m0s\u001b[0m 5ms/step \n",
            "83/200, D Loss: 0.7668626308441162, D Acc: 48.06501567363739, G loss: [array(0.7677947, dtype=float32), array(0.7677947, dtype=float32), array(0.47919804, dtype=float32)]\n",
            "\u001b[1m4/4\u001b[0m \u001b[32m━━━━━━━━━━━━━━━━━━━━\u001b[0m\u001b[37m\u001b[0m \u001b[1m0s\u001b[0m 4ms/step \n",
            "84/200, D Loss: 0.7679035663604736, D Acc: 48.046135902404785, G loss: [array(0.76891047, dtype=float32), array(0.76891047, dtype=float32), array(0.47902715, dtype=float32)]\n",
            "\u001b[1m4/4\u001b[0m \u001b[32m━━━━━━━━━━━━━━━━━━━━\u001b[0m\u001b[37m\u001b[0m \u001b[1m0s\u001b[0m 4ms/step \n",
            "85/200, D Loss: 0.7689265012741089, D Acc: 48.03231358528137, G loss: [array(0.7698622, dtype=float32), array(0.7698622, dtype=float32), array(0.47890624, dtype=float32)]\n",
            "\u001b[1m4/4\u001b[0m \u001b[32m━━━━━━━━━━━━━━━━━━━━\u001b[0m\u001b[37m\u001b[0m \u001b[1m0s\u001b[0m 3ms/step \n",
            "86/200, D Loss: 0.7698864340782166, D Acc: 48.05070161819458, G loss: [array(0.7708351, dtype=float32), array(0.7708351, dtype=float32), array(0.4791061, dtype=float32)]\n",
            "\u001b[1m4/4\u001b[0m \u001b[32m━━━━━━━━━━━━━━━━━━━━\u001b[0m\u001b[37m\u001b[0m \u001b[1m0s\u001b[0m 3ms/step \n",
            "87/200, D Loss: 0.7709060907363892, D Acc: 48.03714156150818, G loss: [array(0.77184737, dtype=float32), array(0.77184737, dtype=float32), array(0.47898707, dtype=float32)]\n",
            "\u001b[1m4/4\u001b[0m \u001b[32m━━━━━━━━━━━━━━━━━━━━\u001b[0m\u001b[37m\u001b[0m \u001b[1m0s\u001b[0m 3ms/step \n",
            "88/200, D Loss: 0.7719296216964722, D Acc: 48.02389442920685, G loss: [array(0.7728645, dtype=float32), array(0.7728645, dtype=float32), array(0.47887075, dtype=float32)]\n",
            "\u001b[1m4/4\u001b[0m \u001b[32m━━━━━━━━━━━━━━━━━━━━\u001b[0m\u001b[37m\u001b[0m \u001b[1m0s\u001b[0m 3ms/step \n",
            "89/200, D Loss: 0.7728806734085083, D Acc: 48.03735315799713, G loss: [array(0.7738119, dtype=float32), array(0.7738119, dtype=float32), array(0.47902036, dtype=float32)]\n",
            "\u001b[1m4/4\u001b[0m \u001b[32m━━━━━━━━━━━━━━━━━━━━\u001b[0m\u001b[37m\u001b[0m \u001b[1m0s\u001b[0m 3ms/step \n",
            "90/200, D Loss: 0.7738731503486633, D Acc: 48.033103346824646, G loss: [array(0.774832, dtype=float32), array(0.774832, dtype=float32), array(0.47899306, dtype=float32)]\n",
            "\u001b[1m4/4\u001b[0m \u001b[32m━━━━━━━━━━━━━━━━━━━━\u001b[0m\u001b[37m\u001b[0m \u001b[1m0s\u001b[0m 3ms/step \n",
            "91/200, D Loss: 0.774888277053833, D Acc: 48.03755283355713, G loss: [array(0.7758251, dtype=float32), array(0.7758251, dtype=float32), array(0.4790522, dtype=float32)]\n",
            "\u001b[1m4/4\u001b[0m \u001b[32m━━━━━━━━━━━━━━━━━━━━\u001b[0m\u001b[37m\u001b[0m \u001b[1m0s\u001b[0m 4ms/step \n",
            "92/200, D Loss: 0.7758752703666687, D Acc: 48.03765416145325, G loss: [array(0.7767914, dtype=float32), array(0.7767914, dtype=float32), array(0.4790676, dtype=float32)]\n",
            "\u001b[1m4/4\u001b[0m \u001b[32m━━━━━━━━━━━━━━━━━━━━\u001b[0m\u001b[37m\u001b[0m \u001b[1m0s\u001b[0m 3ms/step \n",
            "93/200, D Loss: 0.7768251895904541, D Acc: 48.025113344192505, G loss: [array(0.7777486, dtype=float32), array(0.7777486, dtype=float32), array(0.47895664, dtype=float32)]\n",
            "\u001b[1m4/4\u001b[0m \u001b[32m━━━━━━━━━━━━━━━━━━━━\u001b[0m\u001b[37m\u001b[0m \u001b[1m0s\u001b[0m 3ms/step \n",
            "94/200, D Loss: 0.7778041362762451, D Acc: 48.00867438316345, G loss: [array(0.7787058, dtype=float32), array(0.7787058, dtype=float32), array(0.47880653, dtype=float32)]\n",
            "\u001b[1m4/4\u001b[0m \u001b[32m━━━━━━━━━━━━━━━━━━━━\u001b[0m\u001b[37m\u001b[0m \u001b[1m0s\u001b[0m 4ms/step \n",
            "95/200, D Loss: 0.7787075638771057, D Acc: 48.02144169807434, G loss: [array(0.7796052, dtype=float32), array(0.7796052, dtype=float32), array(0.47894737, dtype=float32)]\n",
            "\u001b[1m4/4\u001b[0m \u001b[32m━━━━━━━━━━━━━━━━━━━━\u001b[0m\u001b[37m\u001b[0m \u001b[1m0s\u001b[0m 4ms/step \n",
            "96/200, D Loss: 0.7796428203582764, D Acc: 48.0298638343811, G loss: [array(0.7805522, dtype=float32), array(0.7805522, dtype=float32), array(0.4790446, dtype=float32)]\n",
            "\u001b[1m4/4\u001b[0m \u001b[32m━━━━━━━━━━━━━━━━━━━━\u001b[0m\u001b[37m\u001b[0m \u001b[1m0s\u001b[0m 3ms/step \n",
            "97/200, D Loss: 0.7805613875389099, D Acc: 48.02196025848389, G loss: [array(0.7814419, dtype=float32), array(0.7814419, dtype=float32), array(0.47897872, dtype=float32)]\n",
            "\u001b[1m4/4\u001b[0m \u001b[32m━━━━━━━━━━━━━━━━━━━━\u001b[0m\u001b[37m\u001b[0m \u001b[1m0s\u001b[0m 3ms/step \n",
            "98/200, D Loss: 0.7815071940422058, D Acc: 48.01022410392761, G loss: [array(0.7824152, dtype=float32), array(0.7824152, dtype=float32), array(0.47887436, dtype=float32)]\n",
            "\u001b[1m4/4\u001b[0m \u001b[32m━━━━━━━━━━━━━━━━━━━━\u001b[0m\u001b[37m\u001b[0m \u001b[1m0s\u001b[0m 3ms/step \n",
            "99/200, D Loss: 0.7824829816818237, D Acc: 47.99476861953735, G loss: [array(0.7833853, dtype=float32), array(0.7833853, dtype=float32), array(0.47873265, dtype=float32)]\n",
            "\u001b[1m4/4\u001b[0m \u001b[32m━━━━━━━━━━━━━━━━━━━━\u001b[0m\u001b[37m\u001b[0m \u001b[1m0s\u001b[0m 3ms/step \n",
            "100/200, D Loss: 0.7834301590919495, D Acc: 47.991374135017395, G loss: [array(0.7843257, dtype=float32), array(0.7843257, dtype=float32), array(0.47871095, dtype=float32)]\n",
            "\u001b[1m4/4\u001b[0m \u001b[32m━━━━━━━━━━━━━━━━━━━━\u001b[0m\u001b[37m\u001b[0m \u001b[1m1s\u001b[0m 212ms/step\n",
            "\u001b[1m4/4\u001b[0m \u001b[32m━━━━━━━━━━━━━━━━━━━━\u001b[0m\u001b[37m\u001b[0m \u001b[1m0s\u001b[0m 5ms/step \n",
            "101/200, D Loss: 0.7843401432037354, D Acc: 47.98804521560669, G loss: [array(0.7852077, dtype=float32), array(0.7852077, dtype=float32), array(0.47868967, dtype=float32)]\n",
            "\u001b[1m4/4\u001b[0m \u001b[32m━━━━━━━━━━━━━━━━━━━━\u001b[0m\u001b[37m\u001b[0m \u001b[1m0s\u001b[0m 4ms/step \n",
            "102/200, D Loss: 0.7852468490600586, D Acc: 47.99245595932007, G loss: [array(0.78611255, dtype=float32), array(0.78611255, dtype=float32), array(0.4787454, dtype=float32)]\n",
            "\u001b[1m4/4\u001b[0m \u001b[32m━━━━━━━━━━━━━━━━━━━━\u001b[0m\u001b[37m\u001b[0m \u001b[1m0s\u001b[0m 3ms/step \n",
            "103/200, D Loss: 0.786171555519104, D Acc: 47.98538088798523, G loss: [array(0.78706646, dtype=float32), array(0.78706646, dtype=float32), array(0.47868627, dtype=float32)]\n",
            "\u001b[1m4/4\u001b[0m \u001b[32m━━━━━━━━━━━━━━━━━━━━\u001b[0m\u001b[37m\u001b[0m \u001b[1m0s\u001b[0m 4ms/step \n",
            "104/200, D Loss: 0.7871078848838806, D Acc: 47.985970973968506, G loss: [array(0.7879969, dtype=float32), array(0.7879969, dtype=float32), array(0.47870344, dtype=float32)]\n",
            "\u001b[1m4/4\u001b[0m \u001b[32m━━━━━━━━━━━━━━━━━━━━\u001b[0m\u001b[37m\u001b[0m \u001b[1m0s\u001b[0m 3ms/step \n",
            "105/200, D Loss: 0.7880728244781494, D Acc: 47.98282086849213, G loss: [array(0.7889576, dtype=float32), array(0.7889576, dtype=float32), array(0.47868302, dtype=float32)]\n",
            "\u001b[1m4/4\u001b[0m \u001b[32m━━━━━━━━━━━━━━━━━━━━\u001b[0m\u001b[37m\u001b[0m \u001b[1m0s\u001b[0m 3ms/step \n",
            "106/200, D Loss: 0.7889858484268188, D Acc: 47.97973036766052, G loss: [array(0.7898828, dtype=float32), array(0.7898828, dtype=float32), array(0.47866303, dtype=float32)]\n",
            "\u001b[1m4/4\u001b[0m \u001b[32m━━━━━━━━━━━━━━━━━━━━\u001b[0m\u001b[37m\u001b[0m \u001b[1m0s\u001b[0m 3ms/step \n",
            "107/200, D Loss: 0.789973795413971, D Acc: 47.96571731567383, G loss: [array(0.79086083, dtype=float32), array(0.79086083, dtype=float32), array(0.47853386, dtype=float32)]\n",
            "\u001b[1m4/4\u001b[0m \u001b[32m━━━━━━━━━━━━━━━━━━━━\u001b[0m\u001b[37m\u001b[0m \u001b[1m0s\u001b[0m 3ms/step \n",
            "108/200, D Loss: 0.7909196615219116, D Acc: 47.95922040939331, G loss: [array(0.79178536, dtype=float32), array(0.79178536, dtype=float32), array(0.47847944, dtype=float32)]\n",
            "\u001b[1m4/4\u001b[0m \u001b[32m━━━━━━━━━━━━━━━━━━━━\u001b[0m\u001b[37m\u001b[0m \u001b[1m0s\u001b[0m 3ms/step \n",
            "109/200, D Loss: 0.7917888164520264, D Acc: 47.96720743179321, G loss: [array(0.7926414, dtype=float32), array(0.7926414, dtype=float32), array(0.4785694, dtype=float32)]\n",
            "\u001b[1m4/4\u001b[0m \u001b[32m━━━━━━━━━━━━━━━━━━━━\u001b[0m\u001b[37m\u001b[0m \u001b[1m0s\u001b[0m 3ms/step \n",
            "110/200, D Loss: 0.7926614284515381, D Acc: 47.975051403045654, G loss: [array(0.7935228, dtype=float32), array(0.7935228, dtype=float32), array(0.47865766, dtype=float32)]\n",
            "\u001b[1m4/4\u001b[0m \u001b[32m━━━━━━━━━━━━━━━━━━━━\u001b[0m\u001b[37m\u001b[0m \u001b[1m0s\u001b[0m 3ms/step \n",
            "111/200, D Loss: 0.7935572862625122, D Acc: 47.97569513320923, G loss: [array(0.79439145, dtype=float32), array(0.79439145, dtype=float32), array(0.478674, dtype=float32)]\n",
            "\u001b[1m4/4\u001b[0m \u001b[32m━━━━━━━━━━━━━━━━━━━━\u001b[0m\u001b[37m\u001b[0m \u001b[1m0s\u001b[0m 3ms/step \n",
            "112/200, D Loss: 0.7944658994674683, D Acc: 47.96934127807617, G loss: [array(0.7953041, dtype=float32), array(0.7953041, dtype=float32), array(0.47862026, dtype=float32)]\n",
            "\u001b[1m4/4\u001b[0m \u001b[32m━━━━━━━━━━━━━━━━━━━━\u001b[0m\u001b[37m\u001b[0m \u001b[1m0s\u001b[0m 3ms/step \n",
            "113/200, D Loss: 0.7953507900238037, D Acc: 47.97348976135254, G loss: [array(0.7961982, dtype=float32), array(0.7961982, dtype=float32), array(0.4786712, dtype=float32)]\n",
            "\u001b[1m4/4\u001b[0m \u001b[32m━━━━━━━━━━━━━━━━━━━━\u001b[0m\u001b[37m\u001b[0m \u001b[1m0s\u001b[0m 3ms/step \n",
            "114/200, D Loss: 0.7962522506713867, D Acc: 47.97070026397705, G loss: [array(0.7970876, dtype=float32), array(0.7970876, dtype=float32), array(0.4786527, dtype=float32)]\n",
            "\u001b[1m4/4\u001b[0m \u001b[32m━━━━━━━━━━━━━━━━━━━━\u001b[0m\u001b[37m\u001b[0m \u001b[1m0s\u001b[0m 3ms/step \n",
            "115/200, D Loss: 0.7971078157424927, D Acc: 47.98157215118408, G loss: [array(0.7979283, dtype=float32), array(0.7979283, dtype=float32), array(0.47877038, dtype=float32)]\n",
            "\u001b[1m4/4\u001b[0m \u001b[32m━━━━━━━━━━━━━━━━━━━━\u001b[0m\u001b[37m\u001b[0m \u001b[1m0s\u001b[0m 3ms/step \n",
            "116/200, D Loss: 0.7979696393013, D Acc: 47.97876179218292, G loss: [array(0.79880756, dtype=float32), array(0.79880756, dtype=float32), array(0.47875136, dtype=float32)]\n",
            "\u001b[1m4/4\u001b[0m \u001b[32m━━━━━━━━━━━━━━━━━━━━\u001b[0m\u001b[37m\u001b[0m \u001b[1m0s\u001b[0m 3ms/step \n",
            "117/200, D Loss: 0.7988812923431396, D Acc: 47.972649335861206, G loss: [array(0.7997141, dtype=float32), array(0.7997141, dtype=float32), array(0.47869927, dtype=float32)]\n",
            "\u001b[1m4/4\u001b[0m \u001b[32m━━━━━━━━━━━━━━━━━━━━\u001b[0m\u001b[37m\u001b[0m \u001b[1m0s\u001b[0m 3ms/step \n",
            "118/200, D Loss: 0.7997472882270813, D Acc: 47.969961166381836, G loss: [array(0.8005861, dtype=float32), array(0.8005861, dtype=float32), array(0.47868115, dtype=float32)]\n",
            "\u001b[1m4/4\u001b[0m \u001b[32m━━━━━━━━━━━━━━━━━━━━\u001b[0m\u001b[37m\u001b[0m \u001b[1m0s\u001b[0m 3ms/step \n",
            "119/200, D Loss: 0.8006490468978882, D Acc: 47.95415997505188, G loss: [array(0.8014812, dtype=float32), array(0.8014812, dtype=float32), array(0.47853205, dtype=float32)]\n",
            "\u001b[1m4/4\u001b[0m \u001b[32m━━━━━━━━━━━━━━━━━━━━\u001b[0m\u001b[37m\u001b[0m \u001b[1m0s\u001b[0m 3ms/step \n",
            "120/200, D Loss: 0.8015213012695312, D Acc: 47.94514775276184, G loss: [array(0.80234843, dtype=float32), array(0.80234843, dtype=float32), array(0.4784505, dtype=float32)]\n",
            "\u001b[1m4/4\u001b[0m \u001b[32m━━━━━━━━━━━━━━━━━━━━\u001b[0m\u001b[37m\u001b[0m \u001b[1m0s\u001b[0m 3ms/step \n",
            "121/200, D Loss: 0.8024094700813293, D Acc: 47.94275164604187, G loss: [array(0.8032253, dtype=float32), array(0.8032253, dtype=float32), array(0.47843492, dtype=float32)]\n",
            "\u001b[1m4/4\u001b[0m \u001b[32m━━━━━━━━━━━━━━━━━━━━\u001b[0m\u001b[37m\u001b[0m \u001b[1m0s\u001b[0m 5ms/step \n",
            "122/200, D Loss: 0.8032711744308472, D Acc: 47.95643985271454, G loss: [array(0.8041053, dtype=float32), array(0.8041053, dtype=float32), array(0.47857967, dtype=float32)]\n",
            "\u001b[1m4/4\u001b[0m \u001b[32m━━━━━━━━━━━━━━━━━━━━\u001b[0m\u001b[37m\u001b[0m \u001b[1m0s\u001b[0m 5ms/step \n",
            "123/200, D Loss: 0.8041508197784424, D Acc: 47.96035885810852, G loss: [array(0.8049591, dtype=float32), array(0.8049591, dtype=float32), array(0.4786268, dtype=float32)]\n",
            "\u001b[1m4/4\u001b[0m \u001b[32m━━━━━━━━━━━━━━━━━━━━\u001b[0m\u001b[37m\u001b[0m \u001b[1m0s\u001b[0m 6ms/step \n",
            "124/200, D Loss: 0.8050233125686646, D Acc: 47.95474112033844, G loss: [array(0.80584043, dtype=float32), array(0.80584043, dtype=float32), array(0.47857863, dtype=float32)]\n",
            "\u001b[1m4/4\u001b[0m \u001b[32m━━━━━━━━━━━━━━━━━━━━\u001b[0m\u001b[37m\u001b[0m \u001b[1m0s\u001b[0m 3ms/step \n",
            "125/200, D Loss: 0.8059029579162598, D Acc: 47.955477237701416, G loss: [array(0.8067312, dtype=float32), array(0.8067312, dtype=float32), array(0.47859374, dtype=float32)]\n",
            "\u001b[1m4/4\u001b[0m \u001b[32m━━━━━━━━━━━━━━━━━━━━\u001b[0m\u001b[37m\u001b[0m \u001b[1m0s\u001b[0m 3ms/step \n",
            "126/200, D Loss: 0.806765079498291, D Acc: 47.95309901237488, G loss: [array(0.8075795, dtype=float32), array(0.8075795, dtype=float32), array(0.47857764, dtype=float32)]\n",
            "\u001b[1m4/4\u001b[0m \u001b[32m━━━━━━━━━━━━━━━━━━━━\u001b[0m\u001b[37m\u001b[0m \u001b[1m0s\u001b[0m 3ms/step \n",
            "127/200, D Loss: 0.8076335787773132, D Acc: 47.94459044933319, G loss: [array(0.8084588, dtype=float32), array(0.8084588, dtype=float32), array(0.47850025, dtype=float32)]\n",
            "\u001b[1m4/4\u001b[0m \u001b[32m━━━━━━━━━━━━━━━━━━━━\u001b[0m\u001b[37m\u001b[0m \u001b[1m0s\u001b[0m 3ms/step \n",
            "128/200, D Loss: 0.8085418939590454, D Acc: 47.93315827846527, G loss: [array(0.80935913, dtype=float32), array(0.80935913, dtype=float32), array(0.47839355, dtype=float32)]\n",
            "\u001b[1m4/4\u001b[0m \u001b[32m━━━━━━━━━━━━━━━━━━━━\u001b[0m\u001b[37m\u001b[0m \u001b[1m0s\u001b[0m 3ms/step \n",
            "129/200, D Loss: 0.80939781665802, D Acc: 47.924938797950745, G loss: [array(0.81018966, dtype=float32), array(0.81018966, dtype=float32), array(0.4783188, dtype=float32)]\n",
            "\u001b[1m4/4\u001b[0m \u001b[32m━━━━━━━━━━━━━━━━━━━━\u001b[0m\u001b[37m\u001b[0m \u001b[1m0s\u001b[0m 3ms/step \n",
            "130/200, D Loss: 0.8102450370788574, D Acc: 47.93490767478943, G loss: [array(0.81105983, dtype=float32), array(0.81105983, dtype=float32), array(0.47842547, dtype=float32)]\n",
            "\u001b[1m4/4\u001b[0m \u001b[32m━━━━━━━━━━━━━━━━━━━━\u001b[0m\u001b[37m\u001b[0m \u001b[1m0s\u001b[0m 4ms/step \n",
            "131/200, D Loss: 0.8111329078674316, D Acc: 47.92978763580322, G loss: [array(0.8119517, dtype=float32), array(0.8119517, dtype=float32), array(0.47838145, dtype=float32)]\n",
            "\u001b[1m4/4\u001b[0m \u001b[32m━━━━━━━━━━━━━━━━━━━━\u001b[0m\u001b[37m\u001b[0m \u001b[1m0s\u001b[0m 3ms/step \n",
            "132/200, D Loss: 0.8119960427284241, D Acc: 47.93363809585571, G loss: [array(0.81279874, dtype=float32), array(0.81279874, dtype=float32), array(0.47842684, dtype=float32)]\n",
            "\u001b[1m4/4\u001b[0m \u001b[32m━━━━━━━━━━━━━━━━━━━━\u001b[0m\u001b[37m\u001b[0m \u001b[1m0s\u001b[0m 3ms/step \n",
            "133/200, D Loss: 0.8128045797348022, D Acc: 47.943317890167236, G loss: [array(0.8135983, dtype=float32), array(0.8135983, dtype=float32), array(0.47853032, dtype=float32)]\n",
            "\u001b[1m4/4\u001b[0m \u001b[32m━━━━━━━━━━━━━━━━━━━━\u001b[0m\u001b[37m\u001b[0m \u001b[1m0s\u001b[0m 3ms/step \n",
            "134/200, D Loss: 0.8136202096939087, D Acc: 47.944092750549316, G loss: [array(0.8144093, dtype=float32), array(0.8144093, dtype=float32), array(0.47854477, dtype=float32)]\n",
            "\u001b[1m4/4\u001b[0m \u001b[32m━━━━━━━━━━━━━━━━━━━━\u001b[0m\u001b[37m\u001b[0m \u001b[1m0s\u001b[0m 3ms/step \n",
            "135/200, D Loss: 0.8144432306289673, D Acc: 47.95065224170685, G loss: [array(0.8152318, dtype=float32), array(0.8152318, dtype=float32), array(0.4786169, dtype=float32)]\n",
            "\u001b[1m4/4\u001b[0m \u001b[32m━━━━━━━━━━━━━━━━━━━━\u001b[0m\u001b[37m\u001b[0m \u001b[1m0s\u001b[0m 3ms/step \n",
            "136/200, D Loss: 0.8152754306793213, D Acc: 47.95423746109009, G loss: [array(0.81605536, dtype=float32), array(0.81605536, dtype=float32), array(0.47865924, dtype=float32)]\n",
            "\u001b[1m4/4\u001b[0m \u001b[32m━━━━━━━━━━━━━━━━━━━━\u001b[0m\u001b[37m\u001b[0m \u001b[1m0s\u001b[0m 3ms/step \n",
            "137/200, D Loss: 0.8160617351531982, D Acc: 47.95777201652527, G loss: [array(0.81683284, dtype=float32), array(0.81683284, dtype=float32), array(0.47870097, dtype=float32)]\n",
            "\u001b[1m4/4\u001b[0m \u001b[32m━━━━━━━━━━━━━━━━━━━━\u001b[0m\u001b[37m\u001b[0m \u001b[1m0s\u001b[0m 4ms/step \n",
            "138/200, D Loss: 0.8168913125991821, D Acc: 47.96408712863922, G loss: [array(0.8176885, dtype=float32), array(0.8176885, dtype=float32), array(0.47877038, dtype=float32)]\n",
            "\u001b[1m4/4\u001b[0m \u001b[32m━━━━━━━━━━━━━━━━━━━━\u001b[0m\u001b[37m\u001b[0m \u001b[1m0s\u001b[0m 3ms/step \n",
            "139/200, D Loss: 0.8177427053451538, D Acc: 47.96749949455261, G loss: [array(0.81853956, dtype=float32), array(0.81853956, dtype=float32), array(0.4788107, dtype=float32)]\n",
            "\u001b[1m4/4\u001b[0m \u001b[32m━━━━━━━━━━━━━━━━━━━━\u001b[0m\u001b[37m\u001b[0m \u001b[1m0s\u001b[0m 3ms/step \n",
            "140/200, D Loss: 0.8186230063438416, D Acc: 47.956883907318115, G loss: [array(0.81942594, dtype=float32), array(0.81942594, dtype=float32), array(0.47871095, dtype=float32)]\n",
            "\u001b[1m4/4\u001b[0m \u001b[32m━━━━━━━━━━━━━━━━━━━━\u001b[0m\u001b[37m\u001b[0m \u001b[1m0s\u001b[0m 3ms/step \n",
            "141/200, D Loss: 0.8194751739501953, D Acc: 47.95752167701721, G loss: [array(0.8202559, dtype=float32), array(0.8202559, dtype=float32), array(0.4787234, dtype=float32)]\n",
            "\u001b[1m4/4\u001b[0m \u001b[32m━━━━━━━━━━━━━━━━━━━━\u001b[0m\u001b[37m\u001b[0m \u001b[1m0s\u001b[0m 3ms/step \n",
            "142/200, D Loss: 0.8203112483024597, D Acc: 47.949886322021484, G loss: [array(0.82108295, dtype=float32), array(0.82108295, dtype=float32), array(0.47865316, dtype=float32)]\n",
            "\u001b[1m4/4\u001b[0m \u001b[32m━━━━━━━━━━━━━━━━━━━━\u001b[0m\u001b[37m\u001b[0m \u001b[1m0s\u001b[0m 3ms/step \n",
            "143/200, D Loss: 0.821104884147644, D Acc: 47.961509227752686, G loss: [array(0.8218681, dtype=float32), array(0.8218681, dtype=float32), array(0.47877514, dtype=float32)]\n",
            "\u001b[1m4/4\u001b[0m \u001b[32m━━━━━━━━━━━━━━━━━━━━\u001b[0m\u001b[37m\u001b[0m \u001b[1m0s\u001b[0m 3ms/step \n",
            "144/200, D Loss: 0.8219094276428223, D Acc: 47.95123338699341, G loss: [array(0.8226585, dtype=float32), array(0.8226585, dtype=float32), array(0.47867838, dtype=float32)]\n",
            "\u001b[1m4/4\u001b[0m \u001b[32m━━━━━━━━━━━━━━━━━━━━\u001b[0m\u001b[37m\u001b[0m \u001b[1m0s\u001b[0m 5ms/step \n",
            "145/200, D Loss: 0.8227156400680542, D Acc: 47.946494817733765, G loss: [array(0.823491, dtype=float32), array(0.823491, dtype=float32), array(0.47863686, dtype=float32)]\n",
            "\u001b[1m4/4\u001b[0m \u001b[32m━━━━━━━━━━━━━━━━━━━━\u001b[0m\u001b[37m\u001b[0m \u001b[1m0s\u001b[0m 5ms/step \n",
            "146/200, D Loss: 0.8235424757003784, D Acc: 47.95254170894623, G loss: [array(0.82430166, dtype=float32), array(0.82430166, dtype=float32), array(0.4787029, dtype=float32)]\n",
            "\u001b[1m4/4\u001b[0m \u001b[32m━━━━━━━━━━━━━━━━━━━━\u001b[0m\u001b[37m\u001b[0m \u001b[1m0s\u001b[0m 3ms/step \n",
            "147/200, D Loss: 0.8243427276611328, D Acc: 47.95318245887756, G loss: [array(0.8250927, dtype=float32), array(0.8250927, dtype=float32), array(0.4787149, dtype=float32)]\n",
            "\u001b[1m4/4\u001b[0m \u001b[32m━━━━━━━━━━━━━━━━━━━━\u001b[0m\u001b[37m\u001b[0m \u001b[1m0s\u001b[0m 3ms/step \n",
            "148/200, D Loss: 0.8251116871833801, D Acc: 47.96174764633179, G loss: [array(0.82587314, dtype=float32), array(0.82587314, dtype=float32), array(0.47880596, dtype=float32)]\n",
            "\u001b[1m4/4\u001b[0m \u001b[32m━━━━━━━━━━━━━━━━━━━━\u001b[0m\u001b[37m\u001b[0m \u001b[1m0s\u001b[0m 3ms/step \n",
            "149/200, D Loss: 0.8259087800979614, D Acc: 47.964948415756226, G loss: [array(0.82668066, dtype=float32), array(0.82668066, dtype=float32), array(0.47884333, dtype=float32)]\n",
            "\u001b[1m4/4\u001b[0m \u001b[32m━━━━━━━━━━━━━━━━━━━━\u001b[0m\u001b[37m\u001b[0m \u001b[1m0s\u001b[0m 3ms/step \n",
            "150/200, D Loss: 0.8267411589622498, D Acc: 47.962886095047, G loss: [array(0.82750964, dtype=float32), array(0.82750964, dtype=float32), array(0.47882813, dtype=float32)]\n",
            "\u001b[1m4/4\u001b[0m \u001b[32m━━━━━━━━━━━━━━━━━━━━\u001b[0m\u001b[37m\u001b[0m \u001b[1m0s\u001b[0m 3ms/step \n",
            "151/200, D Loss: 0.8275870084762573, D Acc: 47.94789254665375, G loss: [array(0.82834476, dtype=float32), array(0.82834476, dtype=float32), array(0.47868377, dtype=float32)]\n",
            "\u001b[1m4/4\u001b[0m \u001b[32m━━━━━━━━━━━━━━━━━━━━\u001b[0m\u001b[37m\u001b[0m \u001b[1m0s\u001b[0m 3ms/step \n",
            "152/200, D Loss: 0.8283696174621582, D Acc: 47.94597029685974, G loss: [array(0.82911307, dtype=float32), array(0.82911307, dtype=float32), array(0.47866982, dtype=float32)]\n",
            "\u001b[1m4/4\u001b[0m \u001b[32m━━━━━━━━━━━━━━━━━━━━\u001b[0m\u001b[37m\u001b[0m \u001b[1m0s\u001b[0m 4ms/step \n",
            "153/200, D Loss: 0.8291724920272827, D Acc: 47.93895781040192, G loss: [array(0.82993895, dtype=float32), array(0.82993895, dtype=float32), array(0.47860497, dtype=float32)]\n",
            "\u001b[1m4/4\u001b[0m \u001b[32m━━━━━━━━━━━━━━━━━━━━\u001b[0m\u001b[37m\u001b[0m \u001b[1m0s\u001b[0m 3ms/step \n",
            "154/200, D Loss: 0.8300226926803589, D Acc: 47.9422003030777, G loss: [array(0.8307928, dtype=float32), array(0.8307928, dtype=float32), array(0.47864246, dtype=float32)]\n",
            "\u001b[1m4/4\u001b[0m \u001b[32m━━━━━━━━━━━━━━━━━━━━\u001b[0m\u001b[37m\u001b[0m \u001b[1m0s\u001b[0m 3ms/step \n",
            "155/200, D Loss: 0.8308370113372803, D Acc: 47.94034957885742, G loss: [array(0.8315869, dtype=float32), array(0.8315869, dtype=float32), array(0.47862902, dtype=float32)]\n",
            "\u001b[1m4/4\u001b[0m \u001b[32m━━━━━━━━━━━━━━━━━━━━\u001b[0m\u001b[37m\u001b[0m \u001b[1m0s\u001b[0m 3ms/step \n",
            "156/200, D Loss: 0.8316447734832764, D Acc: 47.933509945869446, G loss: [array(0.83239794, dtype=float32), array(0.83239794, dtype=float32), array(0.4785657, dtype=float32)]\n",
            "\u001b[1m4/4\u001b[0m \u001b[32m━━━━━━━━━━━━━━━━━━━━\u001b[0m\u001b[37m\u001b[0m \u001b[1m0s\u001b[0m 3ms/step \n",
            "157/200, D Loss: 0.8324713110923767, D Acc: 47.92177081108093, G loss: [array(0.83322287, dtype=float32), array(0.83322287, dtype=float32), array(0.47845343, dtype=float32)]\n",
            "\u001b[1m4/4\u001b[0m \u001b[32m━━━━━━━━━━━━━━━━━━━━\u001b[0m\u001b[37m\u001b[0m \u001b[1m0s\u001b[0m 4ms/step \n",
            "158/200, D Loss: 0.8332473039627075, D Acc: 47.92751669883728, G loss: [array(0.8339693, dtype=float32), array(0.8339693, dtype=float32), array(0.47851562, dtype=float32)]\n",
            "\u001b[1m4/4\u001b[0m \u001b[32m━━━━━━━━━━━━━━━━━━━━\u001b[0m\u001b[37m\u001b[0m \u001b[1m0s\u001b[0m 3ms/step \n",
            "159/200, D Loss: 0.83402419090271, D Acc: 47.92088568210602, G loss: [array(0.8347623, dtype=float32), array(0.8347623, dtype=float32), array(0.4784542, dtype=float32)]\n",
            "\u001b[1m4/4\u001b[0m \u001b[32m━━━━━━━━━━━━━━━━━━━━\u001b[0m\u001b[37m\u001b[0m \u001b[1m0s\u001b[0m 4ms/step \n",
            "160/200, D Loss: 0.8347994089126587, D Acc: 47.92411923408508, G loss: [array(0.8355259, dtype=float32), array(0.8355259, dtype=float32), array(0.47849122, dtype=float32)]\n",
            "\u001b[1m4/4\u001b[0m \u001b[32m━━━━━━━━━━━━━━━━━━━━\u001b[0m\u001b[37m\u001b[0m \u001b[1m0s\u001b[0m 3ms/step \n",
            "161/200, D Loss: 0.835548996925354, D Acc: 47.927314043045044, G loss: [array(0.8362803, dtype=float32), array(0.8362803, dtype=float32), array(0.47852775, dtype=float32)]\n",
            "\u001b[1m4/4\u001b[0m \u001b[32m━━━━━━━━━━━━━━━━━━━━\u001b[0m\u001b[37m\u001b[0m \u001b[1m0s\u001b[0m 3ms/step \n",
            "162/200, D Loss: 0.836351752281189, D Acc: 47.92805314064026, G loss: [array(0.83709913, dtype=float32), array(0.83709913, dtype=float32), array(0.47853974, dtype=float32)]\n",
            "\u001b[1m4/4\u001b[0m \u001b[32m━━━━━━━━━━━━━━━━━━━━\u001b[0m\u001b[37m\u001b[0m \u001b[1m0s\u001b[0m 3ms/step \n",
            "163/200, D Loss: 0.8371449708938599, D Acc: 47.92158007621765, G loss: [array(0.8378854, dtype=float32), array(0.8378854, dtype=float32), array(0.47847968, dtype=float32)]\n",
            "\u001b[1m4/4\u001b[0m \u001b[32m━━━━━━━━━━━━━━━━━━━━\u001b[0m\u001b[37m\u001b[0m \u001b[1m0s\u001b[0m 3ms/step \n",
            "164/200, D Loss: 0.8379248380661011, D Acc: 47.92473018169403, G loss: [array(0.8386695, dtype=float32), array(0.8386695, dtype=float32), array(0.47851562, dtype=float32)]\n",
            "\u001b[1m4/4\u001b[0m \u001b[32m━━━━━━━━━━━━━━━━━━━━\u001b[0m\u001b[37m\u001b[0m \u001b[1m0s\u001b[0m 3ms/step \n",
            "165/200, D Loss: 0.8386856317520142, D Acc: 47.92072772979736, G loss: [array(0.839398, dtype=float32), array(0.839398, dtype=float32), array(0.4784801, dtype=float32)]\n",
            "\u001b[1m4/4\u001b[0m \u001b[32m━━━━━━━━━━━━━━━━━━━━\u001b[0m\u001b[37m\u001b[0m \u001b[1m0s\u001b[0m 4ms/step \n",
            "166/200, D Loss: 0.839422881603241, D Acc: 47.91913330554962, G loss: [array(0.84014535, dtype=float32), array(0.84014535, dtype=float32), array(0.47846857, dtype=float32)]\n",
            "\u001b[1m4/4\u001b[0m \u001b[32m━━━━━━━━━━━━━━━━━━━━\u001b[0m\u001b[37m\u001b[0m \u001b[1m0s\u001b[0m 5ms/step \n",
            "167/200, D Loss: 0.840180516242981, D Acc: 47.926926612854004, G loss: [array(0.8409021, dtype=float32), array(0.8409021, dtype=float32), array(0.4785507, dtype=float32)]\n",
            "\u001b[1m4/4\u001b[0m \u001b[32m━━━━━━━━━━━━━━━━━━━━\u001b[0m\u001b[37m\u001b[0m \u001b[1m0s\u001b[0m 5ms/step \n",
            "168/200, D Loss: 0.8409452438354492, D Acc: 47.92531132698059, G loss: [array(0.8416781, dtype=float32), array(0.8416781, dtype=float32), array(0.47853887, dtype=float32)]\n",
            "\u001b[1m4/4\u001b[0m \u001b[32m━━━━━━━━━━━━━━━━━━━━\u001b[0m\u001b[37m\u001b[0m \u001b[1m0s\u001b[0m 3ms/step \n",
            "169/200, D Loss: 0.8417404890060425, D Acc: 47.90751338005066, G loss: [array(0.8424628, dtype=float32), array(0.8424628, dtype=float32), array(0.4783654, dtype=float32)]\n",
            "\u001b[1m4/4\u001b[0m \u001b[32m━━━━━━━━━━━━━━━━━━━━\u001b[0m\u001b[37m\u001b[0m \u001b[1m0s\u001b[0m 3ms/step \n",
            "170/200, D Loss: 0.8425023555755615, D Acc: 47.90833294391632, G loss: [array(0.84323657, dtype=float32), array(0.84323657, dtype=float32), array(0.47837776, dtype=float32)]\n",
            "\u001b[1m4/4\u001b[0m \u001b[32m━━━━━━━━━━━━━━━━━━━━\u001b[0m\u001b[37m\u001b[0m \u001b[1m0s\u001b[0m 4ms/step \n",
            "171/200, D Loss: 0.8432776927947998, D Acc: 47.904568910598755, G loss: [array(0.84398603, dtype=float32), array(0.84398603, dtype=float32), array(0.4783443, dtype=float32)]\n",
            "\u001b[1m4/4\u001b[0m \u001b[32m━━━━━━━━━━━━━━━━━━━━\u001b[0m\u001b[37m\u001b[0m \u001b[1m0s\u001b[0m 3ms/step \n",
            "172/200, D Loss: 0.8440296649932861, D Acc: 47.907671332359314, G loss: [array(0.8447391, dtype=float32), array(0.8447391, dtype=float32), array(0.47837937, dtype=float32)]\n",
            "\u001b[1m4/4\u001b[0m \u001b[32m━━━━━━━━━━━━━━━━━━━━\u001b[0m\u001b[37m\u001b[0m \u001b[1m0s\u001b[0m 3ms/step \n",
            "173/200, D Loss: 0.8447800874710083, D Acc: 47.90847599506378, G loss: [array(0.8455037, dtype=float32), array(0.8455037, dtype=float32), array(0.47839144, dtype=float32)]\n",
            "\u001b[1m4/4\u001b[0m \u001b[32m━━━━━━━━━━━━━━━━━━━━\u001b[0m\u001b[37m\u001b[0m \u001b[1m0s\u001b[0m 3ms/step \n",
            "174/200, D Loss: 0.8455331325531006, D Acc: 47.91601598262787, G loss: [array(0.8462299, dtype=float32), array(0.8462299, dtype=float32), array(0.4784707, dtype=float32)]\n",
            "\u001b[1m4/4\u001b[0m \u001b[32m━━━━━━━━━━━━━━━━━━━━\u001b[0m\u001b[37m\u001b[0m \u001b[1m0s\u001b[0m 3ms/step \n",
            "175/200, D Loss: 0.8462865352630615, D Acc: 47.9167640209198, G loss: [array(0.8470063, dtype=float32), array(0.8470063, dtype=float32), array(0.47848216, dtype=float32)]\n",
            "\u001b[1m4/4\u001b[0m \u001b[32m━━━━━━━━━━━━━━━━━━━━\u001b[0m\u001b[37m\u001b[0m \u001b[1m0s\u001b[0m 3ms/step \n",
            "176/200, D Loss: 0.8470185995101929, D Acc: 47.917503118515015, G loss: [array(0.84771556, dtype=float32), array(0.84771556, dtype=float32), array(0.47849342, dtype=float32)]\n",
            "\u001b[1m4/4\u001b[0m \u001b[32m━━━━━━━━━━━━━━━━━━━━\u001b[0m\u001b[37m\u001b[0m \u001b[1m0s\u001b[0m 3ms/step \n",
            "177/200, D Loss: 0.8477482795715332, D Acc: 47.91823625564575, G loss: [array(0.84844756, dtype=float32), array(0.84844756, dtype=float32), array(0.4785046, dtype=float32)]\n",
            "\u001b[1m4/4\u001b[0m \u001b[32m━━━━━━━━━━━━━━━━━━━━\u001b[0m\u001b[37m\u001b[0m \u001b[1m0s\u001b[0m 3ms/step \n",
            "178/200, D Loss: 0.848482072353363, D Acc: 47.92335629463196, G loss: [array(0.84919363, dtype=float32), array(0.84919363, dtype=float32), array(0.47855952, dtype=float32)]\n",
            "\u001b[1m4/4\u001b[0m \u001b[32m━━━━━━━━━━━━━━━━━━━━\u001b[0m\u001b[37m\u001b[0m \u001b[1m0s\u001b[0m 3ms/step \n",
            "179/200, D Loss: 0.8492209315299988, D Acc: 47.921860218048096, G loss: [array(0.84991854, dtype=float32), array(0.84991854, dtype=float32), array(0.47854835, dtype=float32)]\n",
            "\u001b[1m4/4\u001b[0m \u001b[32m━━━━━━━━━━━━━━━━━━━━\u001b[0m\u001b[37m\u001b[0m \u001b[1m0s\u001b[0m 4ms/step \n",
            "180/200, D Loss: 0.849981963634491, D Acc: 47.91386127471924, G loss: [array(0.8506865, dtype=float32), array(0.8506865, dtype=float32), array(0.47847223, dtype=float32)]\n",
            "\u001b[1m4/4\u001b[0m \u001b[32m━━━━━━━━━━━━━━━━━━━━\u001b[0m\u001b[37m\u001b[0m \u001b[1m0s\u001b[0m 3ms/step \n",
            "181/200, D Loss: 0.8507430553436279, D Acc: 47.91027307510376, G loss: [array(0.8514596, dtype=float32), array(0.8514596, dtype=float32), array(0.47844008, dtype=float32)]\n",
            "\u001b[1m4/4\u001b[0m \u001b[32m━━━━━━━━━━━━━━━━━━━━\u001b[0m\u001b[37m\u001b[0m \u001b[1m0s\u001b[0m 3ms/step \n",
            "182/200, D Loss: 0.8515063524246216, D Acc: 47.906726598739624, G loss: [array(0.85221016, dtype=float32), array(0.85221016, dtype=float32), array(0.4784083, dtype=float32)]\n",
            "\u001b[1m4/4\u001b[0m \u001b[32m━━━━━━━━━━━━━━━━━━━━\u001b[0m\u001b[37m\u001b[0m \u001b[1m0s\u001b[0m 3ms/step \n",
            "183/200, D Loss: 0.8522262573242188, D Acc: 47.91604280471802, G loss: [array(0.8529067, dtype=float32), array(0.8529067, dtype=float32), array(0.47850496, dtype=float32)]\n",
            "\u001b[1m4/4\u001b[0m \u001b[32m━━━━━━━━━━━━━━━━━━━━\u001b[0m\u001b[37m\u001b[0m \u001b[1m0s\u001b[0m 3ms/step \n",
            "184/200, D Loss: 0.8529671430587769, D Acc: 47.90612459182739, G loss: [array(0.85366815, dtype=float32), array(0.85366815, dtype=float32), array(0.47840947, dtype=float32)]\n",
            "\u001b[1m4/4\u001b[0m \u001b[32m━━━━━━━━━━━━━━━━━━━━\u001b[0m\u001b[37m\u001b[0m \u001b[1m0s\u001b[0m 4ms/step \n",
            "185/200, D Loss: 0.8537098169326782, D Acc: 47.90477156639099, G loss: [array(0.85440165, dtype=float32), array(0.85440165, dtype=float32), array(0.4783995, dtype=float32)]\n",
            "\u001b[1m4/4\u001b[0m \u001b[32m━━━━━━━━━━━━━━━━━━━━\u001b[0m\u001b[37m\u001b[0m \u001b[1m0s\u001b[0m 3ms/step \n",
            "186/200, D Loss: 0.8544443845748901, D Acc: 47.905540466308594, G loss: [array(0.8551409, dtype=float32), array(0.8551409, dtype=float32), array(0.47841063, dtype=float32)]\n",
            "\u001b[1m4/4\u001b[0m \u001b[32m━━━━━━━━━━━━━━━━━━━━\u001b[0m\u001b[37m\u001b[0m \u001b[1m0s\u001b[0m 6ms/step  \n",
            "187/200, D Loss: 0.8551584482192993, D Acc: 47.90838658809662, G loss: [array(0.85583466, dtype=float32), array(0.85583466, dtype=float32), array(0.47844252, dtype=float32)]\n",
            "\u001b[1m4/4\u001b[0m \u001b[32m━━━━━━━━━━━━━━━━━━━━\u001b[0m\u001b[37m\u001b[0m \u001b[1m0s\u001b[0m 5ms/step \n",
            "188/200, D Loss: 0.8559012413024902, D Acc: 47.89663851261139, G loss: [array(0.85660934, dtype=float32), array(0.85660934, dtype=float32), array(0.47832862, dtype=float32)]\n",
            "\u001b[1m4/4\u001b[0m \u001b[32m━━━━━━━━━━━━━━━━━━━━\u001b[0m\u001b[37m\u001b[0m \u001b[1m0s\u001b[0m 4ms/step \n",
            "189/200, D Loss: 0.856692910194397, D Acc: 47.87467122077942, G loss: [array(0.85738885, dtype=float32), array(0.85738885, dtype=float32), array(0.4781126, dtype=float32)]\n",
            "\u001b[1m4/4\u001b[0m \u001b[32m━━━━━━━━━━━━━━━━━━━━\u001b[0m\u001b[37m\u001b[0m \u001b[1m0s\u001b[0m 3ms/step \n",
            "190/200, D Loss: 0.857418417930603, D Acc: 47.881752252578735, G loss: [array(0.8581023, dtype=float32), array(0.8581023, dtype=float32), array(0.47818667, dtype=float32)]\n",
            "\u001b[1m4/4\u001b[0m \u001b[32m━━━━━━━━━━━━━━━━━━━━\u001b[0m\u001b[37m\u001b[0m \u001b[1m0s\u001b[0m 3ms/step \n",
            "191/200, D Loss: 0.8581469655036926, D Acc: 47.87852168083191, G loss: [array(0.85882, dtype=float32), array(0.85882, dtype=float32), array(0.47815773, dtype=float32)]\n",
            "\u001b[1m4/4\u001b[0m \u001b[32m━━━━━━━━━━━━━━━━━━━━\u001b[0m\u001b[37m\u001b[0m \u001b[1m0s\u001b[0m 3ms/step \n",
            "192/200, D Loss: 0.8588506579399109, D Acc: 47.883474826812744, G loss: [array(0.8595278, dtype=float32), array(0.8595278, dtype=float32), array(0.47821045, dtype=float32)]\n",
            "\u001b[1m4/4\u001b[0m \u001b[32m━━━━━━━━━━━━━━━━━━━━\u001b[0m\u001b[37m\u001b[0m \u001b[1m0s\u001b[0m 3ms/step \n",
            "193/200, D Loss: 0.8595760464668274, D Acc: 47.88229465484619, G loss: [array(0.8602714, dtype=float32), array(0.8602714, dtype=float32), array(0.4782019, dtype=float32)]\n",
            "\u001b[1m4/4\u001b[0m \u001b[32m━━━━━━━━━━━━━━━━━━━━\u001b[0m\u001b[37m\u001b[0m \u001b[1m0s\u001b[0m 3ms/step \n",
            "194/200, D Loss: 0.8603177070617676, D Acc: 47.871047258377075, G loss: [array(0.8609918, dtype=float32), array(0.8609918, dtype=float32), array(0.4780928, dtype=float32)]\n",
            "\u001b[1m4/4\u001b[0m \u001b[32m━━━━━━━━━━━━━━━━━━━━\u001b[0m\u001b[37m\u001b[0m \u001b[1m0s\u001b[0m 3ms/step \n",
            "195/200, D Loss: 0.8610357046127319, D Acc: 47.863927483558655, G loss: [array(0.8617221, dtype=float32), array(0.8617221, dtype=float32), array(0.47802484, dtype=float32)]\n",
            "\u001b[1m4/4\u001b[0m \u001b[32m━━━━━━━━━━━━━━━━━━━━\u001b[0m\u001b[37m\u001b[0m \u001b[1m0s\u001b[0m 3ms/step \n",
            "196/200, D Loss: 0.8617817163467407, D Acc: 47.86286652088165, G loss: [array(0.8624693, dtype=float32), array(0.8624693, dtype=float32), array(0.4780174, dtype=float32)]\n",
            "\u001b[1m4/4\u001b[0m \u001b[32m━━━━━━━━━━━━━━━━━━━━\u001b[0m\u001b[37m\u001b[0m \u001b[1m0s\u001b[0m 3ms/step \n",
            "197/200, D Loss: 0.8624951839447021, D Acc: 47.86379933357239, G loss: [array(0.8631489, dtype=float32), array(0.8631489, dtype=float32), array(0.47802982, dtype=float32)]\n",
            "\u001b[1m4/4\u001b[0m \u001b[32m━━━━━━━━━━━━━━━━━━━━\u001b[0m\u001b[37m\u001b[0m \u001b[1m0s\u001b[0m 3ms/step \n",
            "198/200, D Loss: 0.8632014989852905, D Acc: 47.86275029182434, G loss: [array(0.86387134, dtype=float32), array(0.86387134, dtype=float32), array(0.47802243, dtype=float32)]\n",
            "\u001b[1m4/4\u001b[0m \u001b[32m━━━━━━━━━━━━━━━━━━━━\u001b[0m\u001b[37m\u001b[0m \u001b[1m0s\u001b[0m 3ms/step \n",
            "199/200, D Loss: 0.8639116287231445, D Acc: 47.86564111709595, G loss: [array(0.8645813, dtype=float32), array(0.8645813, dtype=float32), array(0.47805434, dtype=float32)]\n",
            "\u001b[1m4/4\u001b[0m \u001b[32m━━━━━━━━━━━━━━━━━━━━\u001b[0m\u001b[37m\u001b[0m \u001b[1m0s\u001b[0m 4ms/step \n",
            "200/200, D Loss: 0.8646159768104553, D Acc: 47.860682010650635, G loss: [array(0.8652836, dtype=float32), array(0.8652836, dtype=float32), array(0.47800782, dtype=float32)]\n",
            "\u001b[1m4/4\u001b[0m \u001b[32m━━━━━━━━━━━━━━━━━━━━\u001b[0m\u001b[37m\u001b[0m \u001b[1m0s\u001b[0m 3ms/step \n"
          ]
        }
      ]
    }
  ],
  "metadata": {
    "colab": {
      "provenance": [],
      "gpuType": "T4",
      "include_colab_link": true
    },
    "kernelspec": {
      "display_name": "Python 3",
      "name": "python3"
    },
    "language_info": {
      "name": "python"
    },
    "accelerator": "GPU"
  },
  "nbformat": 4,
  "nbformat_minor": 0
}